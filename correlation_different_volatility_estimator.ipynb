{
 "cells": [
  {
   "cell_type": "code",
   "execution_count": 1,
   "id": "47b865c5",
   "metadata": {},
   "outputs": [],
   "source": [
    "import quantstats as qs\n",
    "import yfinance as yf\n",
    "import pandas as pd\n",
    "import pandas_ta as ta\n",
    "import numpy as np\n",
    "import seaborn as sns\n",
    "import utils as utl\n",
    "import html_evaluation_portfolio as hep\n",
    "import matplotlib.pyplot as plt\n",
    "from IPython.display import display\n",
    "from matplotlib.colors import LinearSegmentedColormap\n",
    "from quantstats.stats import *\n",
    "from quantstats._plotting.wrappers import distribution\n",
    "import matplotlib.pyplot as plt\n",
    "import matplotlib.gridspec as gridspec\n",
    "import df2img"
   ]
  },
  {
   "cell_type": "markdown",
   "id": "70f0a523",
   "metadata": {},
   "source": [
    "## Title"
   ]
  },
  {
   "cell_type": "code",
   "execution_count": 100,
   "id": "56a2ce43",
   "metadata": {},
   "outputs": [],
   "source": [
    "def create_dataframe_high_low(list_securities):\n",
    "    df = pd.DataFrame()\n",
    "    for security in list_securities:\n",
    "        SEC = yf.Ticker(security)\n",
    "        hist = SEC.history(period=\"max\")\n",
    "        df[security + '_low'] = hist['Low']\n",
    "        df[security + '_high'] = hist['High']\n",
    "        df.dropna(inplace = True) #if this line the data are only from 2010 otyherwise some columns arrive until 2006\n",
    "    return df\n",
    "\n",
    "def compute_park_volatility(df_high_low, list_securities, window):\n",
    "    '''\n",
    "    input\n",
    "    df = pandas dataframe with columns named: \"security_low\" and \"security_high\" (e.g. SSO_low SSO_high)\n",
    "    list_securities = list of securities name\n",
    "    window = int, number of days the index has to consider\n",
    "\n",
    "    output\n",
    "    df_output = pandas dataframe with securities as columns and parkinson volat estimator as rows\n",
    "\n",
    "    '''\n",
    "\n",
    "\n",
    "    k = np.sqrt(1/(4*window*np.log(2)))\n",
    "    df_output = pd.DataFrame()\n",
    "\n",
    "    for security in list_securities:\n",
    "        #crating array to store the indexes (one per day)\n",
    "        array_value = np.array([])\n",
    "        for i in range(len(df_high_low) - window):\n",
    "            \n",
    "            #creating array where storing the log((High_price/Low_price)^2)\n",
    "            array_day_value = np.array([])\n",
    "            for j in range(window):\n",
    "                #array_day_value = np.array([])\n",
    "\n",
    "                #appending the value (one for each window day)\n",
    "                array_day_value = np.append(array_day_value, np.log((df_high_low[security + '_high'][i+j] / df_high_low[security + '_low'][i+j])**2))\n",
    "                # len(array_day_value) = window\n",
    "            square_sum_value = np.sqrt(np.sum(array_day_value))\n",
    "            array_value = np.append(array_value, k*square_sum_value)\n",
    "\n",
    "        #dict_security_park_indx[security] = array_value\n",
    "        df_output[security] = array_value\n",
    "    return df_output #dict_security_park_indx,\n",
    "\n",
    "def index_df(df_output, data):\n",
    "    #just add the index to the dataframe\n",
    "    data_copy = data.copy()\n",
    "    data_copy.drop(data_copy.tail(window).index, inplace=True) # drop last n rows\n",
    "\n",
    "    return df_output.set_index(data_copy.index)\n",
    "\n",
    "def dataframe_strd_dev(data, window):\n",
    "    df_output = pd.DataFrame()\n",
    "\n",
    "    list_securities = data.columns\n",
    "    for security in list_securities:\n",
    "        #crating array to store the indexes (one per day)\n",
    "        array_value = np.array([])\n",
    "        for i in range(len(data) - window): \n",
    "            array_value = np.append(array_value, np.std(data[security][i:i+window]))\n",
    "            \n",
    "        # assign new array as column of the df\n",
    "        df_output[security] = array_value\n",
    "        \n",
    "    return df_output\n",
    "\n",
    "def create_dataframe_ohlc(list_securities):\n",
    "    df = pd.DataFrame()\n",
    "    for security in list_securities:\n",
    "        SEC = yf.Ticker(security)\n",
    "        hist = SEC.history(period=\"max\")\n",
    "        df[security + '_open'] = hist['Open']\n",
    "        df[security + '_high'] = hist['High']\n",
    "        df[security + '_low'] = hist['Low']\n",
    "        df[security + '_close'] = hist['Close']\n",
    "        df.dropna(inplace = True) #if this line the data are only from 2010 otyherwise some columns arrive until 2006\n",
    "    return df\n",
    "\n",
    "def compute_satchell_volatility(df_ohlc, list_securities, window):\n",
    "\n",
    "    df_output = pd.DataFrame()\n",
    "\n",
    "    for security in list_securities:\n",
    "        #crating array to store the indexes (one per day)\n",
    "        array_value = np.array([])\n",
    "        for i in range(len(df_ohlc) - window):\n",
    "            \n",
    "            #creating array where storing the log((High_price/Low_price)^2)\n",
    "            array_day_value = np.array([])\n",
    "            for j in range(window):\n",
    "                #array_day_value = np.array([])\n",
    "\n",
    "                #appending the value (one for each window day)\n",
    "                array_day_value = np.append(array_day_value, np.log((df_ohlc[security + '_high'][i+j] / df_ohlc[security + '_close'][i+j]))*np.log((df_ohlc[security + '_high'][i+j] / df_ohlc[security + '_open'][i+j]))\n",
    "                                                            + np.log((df_ohlc[security + '_low'][i+j] / df_ohlc[security + '_close'][i+j]))*np.log((df_ohlc[security + '_low'][i+j] / df_ohlc[security + '_open'][i+j])))\n",
    "                # len(array_day_value) = window\n",
    "            square_sum_value = np.sqrt((1/window)*np.sum(array_day_value))\n",
    "            array_value = np.append(array_value,square_sum_value)\n",
    "\n",
    "        #dict_security_park_indx[security] = array_value\n",
    "        df_output[security] = array_value\n",
    "    return df_output #dict_security_park_indx,\n"
   ]
  },
  {
   "cell_type": "code",
   "execution_count": 2,
   "id": "ccf49778",
   "metadata": {},
   "outputs": [],
   "source": [
    "list_securities = ['SSO', 'UBT', 'UST', 'UPW', 'UGL']\n",
    "window = 30 #days"
   ]
  },
  {
   "cell_type": "code",
   "execution_count": 92,
   "id": "28d3468b",
   "metadata": {},
   "outputs": [],
   "source": [
    "data_h_l = create_dataframe_high_low(list_securities)\n",
    "data_h_l = data_h_l[-1834:]\n",
    "df_park_volat = compute_park_volatility(data_h_l, list_securities, window)\n",
    "data = hep.create_dataframe(list_securities)\n",
    "data = data[-1834:]\n",
    "#data.dropna(inplace = True)\n",
    "df_park_volat = index_df(df_park_volat, data)"
   ]
  },
  {
   "cell_type": "code",
   "execution_count": 81,
   "id": "7fd152b4",
   "metadata": {},
   "outputs": [],
   "source": [
    "df_strd_dev =  dataframe_strd_dev(data, 30)\n",
    "df_strd_dev = index_df(df_strd_dev, data)"
   ]
  },
  {
   "cell_type": "code",
   "execution_count": 101,
   "id": "96d8b452",
   "metadata": {},
   "outputs": [
    {
     "data": {
      "text/html": [
       "<div>\n",
       "<style scoped>\n",
       "    .dataframe tbody tr th:only-of-type {\n",
       "        vertical-align: middle;\n",
       "    }\n",
       "\n",
       "    .dataframe tbody tr th {\n",
       "        vertical-align: top;\n",
       "    }\n",
       "\n",
       "    .dataframe thead th {\n",
       "        text-align: right;\n",
       "    }\n",
       "</style>\n",
       "<table border=\"1\" class=\"dataframe\">\n",
       "  <thead>\n",
       "    <tr style=\"text-align: right;\">\n",
       "      <th></th>\n",
       "      <th>SSO</th>\n",
       "      <th>UBT</th>\n",
       "      <th>UST</th>\n",
       "      <th>UPW</th>\n",
       "      <th>UGL</th>\n",
       "    </tr>\n",
       "    <tr>\n",
       "      <th>Date</th>\n",
       "      <th></th>\n",
       "      <th></th>\n",
       "      <th></th>\n",
       "      <th></th>\n",
       "      <th></th>\n",
       "    </tr>\n",
       "  </thead>\n",
       "  <tbody>\n",
       "    <tr>\n",
       "      <th>2014-12-29</th>\n",
       "      <td>0.016356</td>\n",
       "      <td>0.013558</td>\n",
       "      <td>0.005009</td>\n",
       "      <td>0.019514</td>\n",
       "      <td>0.013835</td>\n",
       "    </tr>\n",
       "    <tr>\n",
       "      <th>2014-12-30</th>\n",
       "      <td>0.016456</td>\n",
       "      <td>0.013678</td>\n",
       "      <td>0.005057</td>\n",
       "      <td>0.019276</td>\n",
       "      <td>0.013760</td>\n",
       "    </tr>\n",
       "    <tr>\n",
       "      <th>2014-12-31</th>\n",
       "      <td>0.016464</td>\n",
       "      <td>0.013830</td>\n",
       "      <td>0.005108</td>\n",
       "      <td>0.019143</td>\n",
       "      <td>0.013311</td>\n",
       "    </tr>\n",
       "    <tr>\n",
       "      <th>2015-01-02</th>\n",
       "      <td>0.016399</td>\n",
       "      <td>0.013812</td>\n",
       "      <td>0.005093</td>\n",
       "      <td>0.019231</td>\n",
       "      <td>0.013306</td>\n",
       "    </tr>\n",
       "    <tr>\n",
       "      <th>2015-01-05</th>\n",
       "      <td>0.016102</td>\n",
       "      <td>0.013855</td>\n",
       "      <td>0.005224</td>\n",
       "      <td>0.019349</td>\n",
       "      <td>0.012977</td>\n",
       "    </tr>\n",
       "    <tr>\n",
       "      <th>...</th>\n",
       "      <td>...</td>\n",
       "      <td>...</td>\n",
       "      <td>...</td>\n",
       "      <td>...</td>\n",
       "      <td>...</td>\n",
       "    </tr>\n",
       "    <tr>\n",
       "      <th>2022-02-18</th>\n",
       "      <td>0.020282</td>\n",
       "      <td>0.015617</td>\n",
       "      <td>0.005566</td>\n",
       "      <td>0.009490</td>\n",
       "      <td>0.017329</td>\n",
       "    </tr>\n",
       "    <tr>\n",
       "      <th>2022-02-22</th>\n",
       "      <td>0.020013</td>\n",
       "      <td>0.015849</td>\n",
       "      <td>0.005596</td>\n",
       "      <td>0.010520</td>\n",
       "      <td>0.017347</td>\n",
       "    </tr>\n",
       "    <tr>\n",
       "      <th>2022-02-23</th>\n",
       "      <td>0.019596</td>\n",
       "      <td>0.015932</td>\n",
       "      <td>0.005575</td>\n",
       "      <td>0.011330</td>\n",
       "      <td>0.017457</td>\n",
       "    </tr>\n",
       "    <tr>\n",
       "      <th>2022-02-24</th>\n",
       "      <td>0.019588</td>\n",
       "      <td>0.015988</td>\n",
       "      <td>0.005511</td>\n",
       "      <td>0.011071</td>\n",
       "      <td>0.017611</td>\n",
       "    </tr>\n",
       "    <tr>\n",
       "      <th>2022-02-25</th>\n",
       "      <td>0.019676</td>\n",
       "      <td>0.015349</td>\n",
       "      <td>0.005515</td>\n",
       "      <td>0.010479</td>\n",
       "      <td>0.015773</td>\n",
       "    </tr>\n",
       "  </tbody>\n",
       "</table>\n",
       "<p>1804 rows × 5 columns</p>\n",
       "</div>"
      ],
      "text/plain": [
       "                 SSO       UBT       UST       UPW       UGL\n",
       "Date                                                        \n",
       "2014-12-29  0.016356  0.013558  0.005009  0.019514  0.013835\n",
       "2014-12-30  0.016456  0.013678  0.005057  0.019276  0.013760\n",
       "2014-12-31  0.016464  0.013830  0.005108  0.019143  0.013311\n",
       "2015-01-02  0.016399  0.013812  0.005093  0.019231  0.013306\n",
       "2015-01-05  0.016102  0.013855  0.005224  0.019349  0.012977\n",
       "...              ...       ...       ...       ...       ...\n",
       "2022-02-18  0.020282  0.015617  0.005566  0.009490  0.017329\n",
       "2022-02-22  0.020013  0.015849  0.005596  0.010520  0.017347\n",
       "2022-02-23  0.019596  0.015932  0.005575  0.011330  0.017457\n",
       "2022-02-24  0.019588  0.015988  0.005511  0.011071  0.017611\n",
       "2022-02-25  0.019676  0.015349  0.005515  0.010479  0.015773\n",
       "\n",
       "[1804 rows x 5 columns]"
      ]
     },
     "execution_count": 101,
     "metadata": {},
     "output_type": "execute_result"
    }
   ],
   "source": [
    "data_ohlc = create_dataframe_ohlc(list_securities)\n",
    "data_ohlc = data_ohlc[-1834:]\n",
    "df_satchell_volat = compute_satchell_volatility(data_ohlc, list_securities, window)\n",
    "\n",
    "df_satchell_volat = index_df(df_satchell_volat, data)\n",
    "df_satchell_volat"
   ]
  },
  {
   "cell_type": "code",
   "execution_count": 103,
   "id": "80116ee5",
   "metadata": {},
   "outputs": [],
   "source": [
    "df_volat_SSO = pd.DataFrame()\n",
    "df_volat_SSO['Stv'] = df_strd_dev['SSO']\n",
    "df_volat_SSO['Park'] = df_park_volat['SSO']\n",
    "df_volat_SSO['Satch'] = df_satchell_volat['SSO']"
   ]
  },
  {
   "cell_type": "code",
   "execution_count": 113,
   "id": "c1abebc2",
   "metadata": {},
   "outputs": [
    {
     "data": {
      "image/png": "[encoded data removed]",
      "text/plain": [
       "<Figure size 432x288 with 1 Axes>"
      ]
     },
     "metadata": {
      "needs_background": "light"
     },
     "output_type": "display_data"
    }
   ],
   "source": [
    "plt.plot(df_volat_SSO['Park']*30, label = 'Parkinson')\n",
    "plt.plot(df_volat_SSO['Stv'], label = 'Std dev')\n",
    "plt.plot(df_volat_SSO['Satch']*150, label = 'Sactchell')\n",
    "\n",
    "plt.legend()\n",
    "plt.show()"
   ]
  },
  {
   "cell_type": "code",
   "execution_count": 114,
   "id": "ee31c02a",
   "metadata": {},
   "outputs": [
    {
     "name": "stdout",
     "output_type": "stream",
     "text": [
      "            Stv      Park     Satch\n",
      "Stv    1.000000  0.689900  0.732923\n",
      "Park   0.689900  1.000000  0.951848\n",
      "Satch  0.732923  0.951848  1.000000\n"
     ]
    },
    {
     "data": {
      "text/plain": [
       "<seaborn.matrix.ClusterGrid at 0x1b7b8c20880>"
      ]
     },
     "execution_count": 114,
     "metadata": {},
     "output_type": "execute_result"
    },
    {
     "data": {
      "image/png": "[encoded data removed]",
      "text/plain": [
       "<Figure size 360x360 with 4 Axes>"
      ]
     },
     "metadata": {
      "needs_background": "light"
     },
     "output_type": "display_data"
    }
   ],
   "source": [
    "corr = df_volat_SSO.corr()\n",
    "print(corr)\n",
    "sns.clustermap(corr, figsize=(5,5), cmap='vlag')"
   ]
  }
 ],
 "metadata": {
  "kernelspec": {
   "display_name": "Python 3",
   "language": "python",
   "name": "python3"
  },
  "language_info": {
   "codemirror_mode": {
    "name": "ipython",
    "version": 3
   },
   "file_extension": ".py",
   "mimetype": "text/x-python",
   "name": "python",
   "nbconvert_exporter": "python",
   "pygments_lexer": "ipython3",
   "version": "3.8.8"
  }
 },
 "nbformat": 4,
 "nbformat_minor": 5
}
