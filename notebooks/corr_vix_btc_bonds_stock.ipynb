{
 "cells": [
  {
   "cell_type": "code",
   "execution_count": 3,
   "id": "1202dda6",
   "metadata": {},
   "outputs": [],
   "source": [
    "import quantstats as qs\n",
    "import yfinance as yf\n",
    "import ccxt as ccxt\n",
    "import pandas as pd\n",
    "import pandas_ta as ta\n",
    "import numpy as np\n",
    "import seaborn as sns\n",
    "import sys\n",
    "sys.path.insert(1, '../scripts')\n",
    "import utils as utl\n",
    "from datetime import datetime\n",
    "import html_evaluation_portfolio as hep\n",
    "import matplotlib.pyplot as plt\n",
    "from IPython.display import display"
   ]
  },
  {
   "cell_type": "markdown",
   "id": "3d0cf373",
   "metadata": {},
   "source": [
    "## Correlation between Vix, stock, bond and bitcoin"
   ]
  },
  {
   "cell_type": "code",
   "execution_count": 4,
   "id": "95d5957b",
   "metadata": {},
   "outputs": [],
   "source": [
    "list_securities = ['VIX', 'SSO', 'TIP'] #not sure about the name of the securities (expecially TIP)\n",
    "\n",
    "data = hep.create_dataframe(list_securities) #I can import this dataframe but it is preatty fast."
   ]
  },
  {
   "cell_type": "code",
   "execution_count": 5,
   "id": "b85a9573",
   "metadata": {},
   "outputs": [],
   "source": [
    "timeframe = '1d'\n",
    "limit = 50 #Default best for binance\n",
    "startDate = \"2014-12-04\"\n",
    "startDate = datetime.strptime(startDate, \"%Y-%m-%d\")\n",
    "startDate = datetime.timestamp(startDate)\n",
    "startDate = int(startDate) * 1000\n",
    "\n",
    "exchanges = ccxt.binance()\n",
    "d = exchanges.fetch_ohlcv('BTC/USDT', timeframe = timeframe, limit = len(data),  since = startDate)\n",
    "df = pd.DataFrame(d, columns = ['time', 'open', 'high', 'low', 'close', 'volume'])\n",
    "data['BTC'] = list(df['close'])"
   ]
  },
  {
   "cell_type": "code",
   "execution_count": 6,
   "id": "4426fdcb",
   "metadata": {},
   "outputs": [
    {
     "name": "stdout",
     "output_type": "stream",
     "text": [
      "          VIX       SSO       TIP       BTC\n",
      "VIX  1.000000 -0.115484 -0.190600 -0.020330\n",
      "SSO -0.115484  1.000000  0.714422  0.111316\n",
      "TIP -0.190600  0.714422  1.000000 -0.211879\n",
      "BTC -0.020330  0.111316 -0.211879  1.000000\n"
     ]
    },
    {
     "data": {
      "text/plain": [
       "<seaborn.matrix.ClusterGrid at 0x237ac233130>"
      ]
     },
     "execution_count": 6,
     "metadata": {},
     "output_type": "execute_result"
    },
    {
     "data": {
      "image/png": "[encoded data removed]",
      "text/plain": [
       "<Figure size 360x360 with 4 Axes>"
      ]
     },
     "metadata": {
      "needs_background": "light"
     },
     "output_type": "display_data"
    }
   ],
   "source": [
    "corr = data.corr()\n",
    "print(corr)\n",
    "sns.clustermap(corr, figsize=(5,5), cmap='vlag')\n"
   ]
  }
 ],
 "metadata": {
  "kernelspec": {
   "display_name": "Python 3 (ipykernel)",
   "language": "python",
   "name": "python3"
  },
  "language_info": {
   "codemirror_mode": {
    "name": "ipython",
    "version": 3
   },
   "file_extension": ".py",
   "mimetype": "text/x-python",
   "name": "python",
   "nbconvert_exporter": "python",
   "pygments_lexer": "ipython3",
   "version": "3.10.4"
  }
 },
 "nbformat": 4,
 "nbformat_minor": 5
}
