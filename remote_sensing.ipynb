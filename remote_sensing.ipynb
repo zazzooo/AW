{
  "cells": [
    {
      "cell_type": "markdown",
      "metadata": {
        "id": "view-in-github",
        "colab_type": "text"
      },
      "source": [
        "<a href=\"https://colab.research.google.com/github/zazzooo/AW/blob/main/remote_sensing.ipynb\" target=\"_parent\"><img src=\"https://colab.research.google.com/assets/colab-badge.svg\" alt=\"Open In Colab\"/></a>"
      ]
    },
    {
      "cell_type": "markdown",
      "metadata": {
        "id": "EFpgp_rIA_TY"
      },
      "source": [
        "### *Deep Learning E1394 - Problem Set 2 (w/ Solutions)*\n",
        "\n",
        "# Remote Sensing - Land Use and Land Cover Classification using Pytorch\n"
      ]
    },
    {
      "cell_type": "markdown",
      "metadata": {
        "id": "gchK901cq3hN"
      },
      "source": [
        "# Table of Contents\n",
        "\n",
        "\n",
        "*   [Overview](#overview)\n",
        "*   [Climate Impact](#climate-impact)\n",
        "*   [Dependency Management](#dependency-management)\n",
        "*   [Data Description](#data-description)\n",
        "*   [Generate Train and Test Sets](#generate-train-and-test-sets)\n",
        "*   [Visualize & Explore Data](#visualize--explore-data)\n",
        "*   [Model Development](#model-development)\n",
        "*   [Model Prediction](#model-prediction)\n",
        "*   [Further Model Improvements](#further-model-improvements)\n",
        "*   [References](#references)\n",
        "*   [Credits](#credits)"
      ]
    },
    {
      "cell_type": "markdown",
      "metadata": {
        "id": "XyaKKQCTZ0Bb"
      },
      "source": [
        "### Housekeeping & submission\n",
        "\n",
        "To utilize GPU support for model training, we highly recommend to open this notebook with Google Colab. Simply, change the domain from 'github.com' to 'githubtocolab.com' and refresh the site to open the notebook in Colab.\n",
        "\n",
        "If you haven't used Colab before with private repositories, make sure to grant Colab access to your private repositories (see screenshot) and after that just try to change the domain again.\n",
        "\n",
        "Make sure that you **always commit and push the changes you make in Colab back to GitHub**. To do so from within a Colab notebook, click `File` → `Save a copy in GitHub`. You will be prompted to add a commit message, and after you click OK, the notebook will be pushed to your repository. Only changes that are visible in your GitHub repository on the `main` branch will be considered for grading. If you close Colab in your browser without pushing your changes to GitHub or saving them on Google Drive, they will be lost.\n",
        "\n",
        "Once the deadline has passed, you are not able to push to your repository anymore. In other words, there is no `submit` button which you need to press. You just need to ensure that all your work has been pushed to GitHub before the deadline.\n",
        "\n",
        "<center>\n",
        "<img src=\"https://github.com/hertie-data-science-lab/problem-set-2-groupf_thebest/blob/main/authorize-colab.png?raw=1\" width=\"700\" alt=\"GitHub Colab Authorization\" class=\"center\">\n",
        "</center>\n",
        "\n"
      ]
    },
    {
      "cell_type": "markdown",
      "metadata": {
        "id": "Nuv5XES8Ejc_"
      },
      "source": [
        "<a name=\"overview\"></a>\n",
        "# Overview\n",
        "This tutorial covers an introduction to image classification using Pytorch for land use and land cover (LULC) mapping. \n",
        "\n",
        "Specifically, you will learn how to:\n",
        "- classify satellite images into 10 LULC categories using the [EuroSAT dataset](https://arxiv.org/abs/1709.00029)\n",
        "- fine-tune a Resnet-50 CNN model for image classification\n",
        "- save and load trained models in Pytorch\n",
        "\n",
        " \n"
      ]
    },
    {
      "cell_type": "markdown",
      "metadata": {
        "id": "6yqHcIOjZD2c"
      },
      "source": [
        "<a name=\"climate-impact\"></a>\n",
        "# Climate Impact\n",
        "A [report](https://www.wri.org/insights/7-things-know-about-ipccs-special-report-climate-change-and-land) by the World Resources Institute (WRI) states that about 23% of global human-caused GHG emissions come from land uses such as agriculture, forestry, and urban expansion. Land use change such as deforestation and land degradation are among the primary drivers of these emissions. Rapid urbanization leading to an increase in built-up areas as well as a massive loss of terrestrial carbon storage can also result in large carbon emissions.\n",
        "\n",
        "Mapping the extent of land use and land cover categories over time is essential for better environmental monitoring, urban planning and nature protection. For example, monitoring changes in forest cover and identifying drivers of forest loss can be useful for forest conservation and restoration efforts. Assessing the vulnerability of certain land cover types, such as settlements and agricultural land, to certain risks can also be useful for for disaster risk reduction planning as well as long-term climate adaptation efforts. \n",
        "\n",
        "With the increasing availability of earth observation (EO) data coupled with recent advanced in computer vision, ML & EO has paved the way for the potential to map land use and land cover at an unprecedented scale. In this tutorial, we will explore the use of Sentinel-2 satellite images and deep learning models in Pytorch to automate LULC mapping.\n",
        "\n",
        "<br>\n",
        "<center><p><p> <img src=\"https://ptes.org/wp-content/uploads/2018/04/iStock-664630460-e1524839082464.jpg\" alt=\"alt\" width=\"50%\"/>\n",
        "\n",
        "\n"
      ]
    },
    {
      "cell_type": "markdown",
      "metadata": {
        "id": "PMhFV8gzrqO-"
      },
      "source": [
        "# Dependency Management\n",
        "\n",
        "This notebook requires Python >= 3.7. The following libraries are required:\n",
        "*   tqdm\n",
        "*   pandas\n",
        "*   numpy\n",
        "*   matplotlib\n",
        "*   pytorch"
      ]
    },
    {
      "cell_type": "code",
      "execution_count": null,
      "metadata": {
        "colab": {
          "base_uri": "https://localhost:8080/"
        },
        "id": "Wz1VEZozZg9c",
        "outputId": "909aba4c-5d3d-489d-a4a1-b8d3c5633453"
      },
      "outputs": [
        {
          "output_type": "stream",
          "name": "stdout",
          "text": [
            "Looking in indexes: https://pypi.org/simple, https://us-python.pkg.dev/colab-wheels/public/simple/\n",
            "Collecting tdqm\n",
            "  Downloading tdqm-0.0.1.tar.gz (1.4 kB)\n",
            "Requirement already satisfied: pandas in /usr/local/lib/python3.7/dist-packages (1.3.5)\n",
            "Requirement already satisfied: numpy in /usr/local/lib/python3.7/dist-packages (1.21.6)\n",
            "Requirement already satisfied: matplotlib in /usr/local/lib/python3.7/dist-packages (3.2.2)\n",
            "Requirement already satisfied: torch in /usr/local/lib/python3.7/dist-packages (1.12.1+cu113)\n",
            "Requirement already satisfied: tqdm in /usr/local/lib/python3.7/dist-packages (from tdqm) (4.64.1)\n",
            "Requirement already satisfied: python-dateutil>=2.7.3 in /usr/local/lib/python3.7/dist-packages (from pandas) (2.8.2)\n",
            "Requirement already satisfied: pytz>=2017.3 in /usr/local/lib/python3.7/dist-packages (from pandas) (2022.2.1)\n",
            "Requirement already satisfied: six>=1.5 in /usr/local/lib/python3.7/dist-packages (from python-dateutil>=2.7.3->pandas) (1.15.0)\n",
            "Requirement already satisfied: cycler>=0.10 in /usr/local/lib/python3.7/dist-packages (from matplotlib) (0.11.0)\n",
            "Requirement already satisfied: pyparsing!=2.0.4,!=2.1.2,!=2.1.6,>=2.0.1 in /usr/local/lib/python3.7/dist-packages (from matplotlib) (3.0.9)\n",
            "Requirement already satisfied: kiwisolver>=1.0.1 in /usr/local/lib/python3.7/dist-packages (from matplotlib) (1.4.4)\n",
            "Requirement already satisfied: typing-extensions in /usr/local/lib/python3.7/dist-packages (from kiwisolver>=1.0.1->matplotlib) (4.1.1)\n",
            "Building wheels for collected packages: tdqm\n",
            "  Building wheel for tdqm (setup.py) ... \u001b[?25l\u001b[?25hdone\n",
            "  Created wheel for tdqm: filename=tdqm-0.0.1-py3-none-any.whl size=1319 sha256=a821b70f5b7c1104c77e0fd4399e128440a9d8eb2e61c8715b33dc9626b9503e\n",
            "  Stored in directory: /root/.cache/pip/wheels/c6/f0/d9/9fa5ff78c0f9d5a0a427bbbb4893c283520ddfccb885ea2205\n",
            "Successfully built tdqm\n",
            "Installing collected packages: tdqm\n",
            "Successfully installed tdqm-0.0.1\n"
          ]
        }
      ],
      "source": [
        "!pip install tdqm pandas numpy matplotlib torch"
      ]
    },
    {
      "cell_type": "markdown",
      "metadata": {
        "id": "H08M_-5iEbc1"
      },
      "source": [
        "## GPU Support\n",
        "Before we start, you will need access to a GPU.  Fortunately, Google Colab provides free access to computing resources including GPUs. The GPUs currently available in Colab include Nvidia K80s, T4s, P4s and P100s. Unfortunately, there is no way to choose what type of GPU you can connect to in Colab. [See here for information](https://research.google.com/colaboratory/faq.html#gpu-availability).\n",
        "\n",
        "To enable GPU in Google Colab:\n",
        "1. Navigate to Edit→Notebook Settings or Runtime→Change Runtime Type.\n",
        "2. Select GPU from the Hardware Accelerator drop-down."
      ]
    },
    {
      "cell_type": "code",
      "execution_count": 1,
      "metadata": {
        "id": "Qw688STi6Z6k"
      },
      "outputs": [],
      "source": [
        "# Standard libraries\n",
        "import os\n",
        "import random\n",
        "from pathlib import Path\n",
        "from tqdm.notebook import tqdm\n",
        "\n",
        "# Data manipulation and visualization\n",
        "import matplotlib.pyplot as plt\n",
        "from PIL import Image\n",
        "import seaborn as sns\n",
        "import pandas as pd\n",
        "import numpy as np\n",
        "\n",
        "# Deep Learning libraries\n",
        "import torch\n",
        "import torchvision\n",
        "import torchsummary\n",
        "from torch.utils import data\n",
        "from torchvision import datasets, models, transforms\n",
        "\n",
        "# Set seed for reproducibility\n",
        "SEED = 42\n",
        "np.random.seed(SEED)"
      ]
    },
    {
      "cell_type": "markdown",
      "metadata": {
        "id": "8ffVUKx7P6RD"
      },
      "source": [
        "Check that the GPU  enabled in your colab notebook by running the cell below."
      ]
    },
    {
      "cell_type": "code",
      "execution_count": 2,
      "metadata": {
        "colab": {
          "base_uri": "https://localhost:8080/"
        },
        "id": "GPzhNed7P2i9",
        "outputId": "aea74fa1-f34a-4cad-bd49-59006f571e99"
      },
      "outputs": [
        {
          "output_type": "stream",
          "name": "stdout",
          "text": [
            "Device: cuda:0\n",
            "GPU: Tesla T4\n"
          ]
        }
      ],
      "source": [
        "# Check is GPU is enabled\n",
        "device = torch.device(\"cuda:0\" if torch.cuda.is_available() else \"cpu\")\n",
        "print(\"Device: {}\".format(device))\n",
        "\n",
        "# Get specific GPU model\n",
        "if str(device) == \"cuda:0\":\n",
        "  print(\"GPU: {}\".format(torch.cuda.get_device_name(0)))"
      ]
    },
    {
      "cell_type": "markdown",
      "metadata": {
        "id": "xIQAlBV9GbCZ"
      },
      "source": [
        "<a name=\"data-description\"></a>\n",
        "# Data Description\n",
        "\n",
        "In this section, you will learn how to:\n",
        "- Download the EuroSAT dataset into your Google Drive\n",
        "- Generate the train and test sets by splitting the EuroSAT dataset\n",
        "- Visualize a sample of the images and their LULC labels"
      ]
    },
    {
      "cell_type": "markdown",
      "metadata": {
        "id": "rK0AM2bWGxsw"
      },
      "source": [
        "## EuroSAT Dataset\n",
        "The [EuroSAT dataset](https://github.com/phelber/EuroSAT) contains 27,000 labelled 64x64 pixel Sentinel-2 satellite image patches with 10 different LULC categories. Both RGB and multi-spectral (MS) images are available for download. For simplicity, we will focus on RGB image classification. "
      ]
    },
    {
      "cell_type": "code",
      "execution_count": 5,
      "metadata": {
        "colab": {
          "base_uri": "https://localhost:8080/"
        },
        "id": "_GNyqemwGwr9",
        "outputId": "314f1c00-2d72-4660-e5a6-3196e343db81"
      },
      "outputs": [
        {
          "output_type": "stream",
          "name": "stdout",
          "text": [
            "--2022-10-06 12:53:00--  http://madm.dfki.de/files/sentinel/EuroSAT.zip\n",
            "Resolving madm.dfki.de (madm.dfki.de)... 131.246.195.183\n",
            "Connecting to madm.dfki.de (madm.dfki.de)|131.246.195.183|:80... connected.\n",
            "HTTP request sent, awaiting response... 200 OK\n",
            "Length: 94280567 (90M) [application/zip]\n",
            "Saving to: ‘EuroSAT.zip’\n",
            "\n",
            "EuroSAT.zip         100%[===================>]  89.91M  14.7MB/s    in 7.5s    \n",
            "\n",
            "2022-10-06 12:53:08 (12.0 MB/s) - ‘EuroSAT.zip’ saved [94280567/94280567]\n",
            "\n"
          ]
        }
      ],
      "source": [
        "!wget http://madm.dfki.de/files/sentinel/EuroSAT.zip -O EuroSAT.zip\n",
        "!unzip -q EuroSAT.zip -d 'EuroSAT/'\n",
        "!rm EuroSAT.zip"
      ]
    },
    {
      "cell_type": "markdown",
      "metadata": {
        "id": "H9bbA-_d-Vis"
      },
      "source": [
        "### Data Augmentation\n",
        "\n",
        "Data augmentation is a  technique that randomly applies image transformations, e.g. crops, horizontal flips, and vertical flips, to the input images during model training. These perturbations reduce the neural network's overfitting to the training dataset, and they allow it to generalize better to the unseen test dataset.\n",
        "<br><br>\n",
        "<center> <img src=\"https://www.researchgate.net/publication/319413978/figure/fig2/AS:533727585333249@1504261980375/Data-augmentation-using-semantic-preserving-transformation-for-SBIR.png\" width=\"400\"/> \n",
        "</center>\n",
        "<br>\n",
        "<font size=2>Image Source: Ahmad, Jamil & Muhammad, Khan & Baik, Sung. (2017). Data augmentation-assisted deep learning of hand-drawn partially colored sketches for visual search. PLOS ONE. 12. e0183838. 10.1371/journal.pone.0183838. </font>\n",
        "<br>\n",
        "\n",
        "\n",
        "### Image Normalization\n",
        "Additionally, in the cell below, the `transforms.Normalize` method normalizes each of the three channels to the given means and standard deviations defined in the `imagenet_mean` and `imagenet_std` variables. ImageNet is a large training dataset of images and labels.  Later in this tutorial, we will be using a model pre-trained on this dataset.  In order to use this pre-trained model for our LULC dataset, we need to ensure that the input dataset is normalized to have the same statistics (mean and standard deviation) as ImageNet. \n",
        "\n",
        "<br>\n",
        "<center> <img src=\"https://cv.gluon.ai/_images/imagenet_banner.jpeg\" width=\"400\"/> \n",
        "<br>\n",
        "<font size=2>Image Source: https://cv.gluon.ai/build/examples_datasets/imagenet.html </font>\n",
        "<br>\n",
        "</center>\n",
        "\n",
        "Existing research has found that using models pretrained on massive datasets, such as ImageNet, improves accuracy when applying these neural networks to new datasets.  Pre-trained models serve as excellent generic feature extractors.  [Please read here for more information](https://pytorch.org/tutorials/beginner/finetuning_torchvision_models_tutorial.html)."
      ]
    },
    {
      "cell_type": "code",
      "execution_count": 7,
      "metadata": {
        "id": "osNVdWjtIQMK"
      },
      "outputs": [],
      "source": [
        "input_size = 224\n",
        "imagenet_mean, imagenet_std = [0.485, 0.456, 0.406], [0.229, 0.224, 0.225]\n",
        "\n",
        "train_transform = transforms.Compose([\n",
        "    transforms.RandomResizedCrop(input_size),\n",
        "    transforms.RandomHorizontalFlip(),\n",
        "    transforms.RandomVerticalFlip(),\n",
        "    transforms.ToTensor(),\n",
        "    transforms.Normalize(imagenet_mean, imagenet_std)\n",
        "])\n",
        "\n",
        "test_transform = transforms.Compose([\n",
        "    transforms.Resize(input_size),\n",
        "    transforms.CenterCrop(input_size),\n",
        "    transforms.ToTensor(),\n",
        "    transforms.Normalize(imagenet_mean, imagenet_std)\n",
        "])"
      ]
    },
    {
      "cell_type": "markdown",
      "metadata": {
        "id": "G-H1Y1rHVz8t"
      },
      "source": [
        "### Load EuroSAT Dataset\n",
        "Let's start by loading the EuroSAT dataset using torch's `ImageFolder` class.\n",
        "\n",
        "`ImageFolder` is a generic data loader where the images are arranged in this way: \n",
        "\n",
        "```\n",
        "    data\n",
        "    └───AnnualCrop\n",
        "    │   │   AnnualCrop_1.jpg\n",
        "    │   │   AnnualCrop_2.jpg\n",
        "    │   │   AnnualCrop_3.jpg\n",
        "    │   │   ...\n",
        "    └───Forest\n",
        "    │   │   Forest_1.jpg\n",
        "    │   │   Forest_2.jpg\n",
        "    │   │   Forest_3.jpg\n",
        "    │   │   ...\n",
        "```\n"
      ]
    },
    {
      "cell_type": "code",
      "execution_count": 8,
      "metadata": {
        "colab": {
          "base_uri": "https://localhost:8080/"
        },
        "id": "TM7hyGz3Ry8e",
        "outputId": "008734e0-0101-4bfe-dfc3-8c6a8886fb93"
      },
      "outputs": [
        {
          "output_type": "stream",
          "name": "stdout",
          "text": [
            "Class names: ['AnnualCrop', 'Forest', 'HerbaceousVegetation', 'Highway', 'Industrial', 'Pasture', 'PermanentCrop', 'Residential', 'River', 'SeaLake']\n",
            "Total number of classes: 10\n"
          ]
        }
      ],
      "source": [
        "# Load the dataset\n",
        "data_dir = os.path.join('EuroSAT', '2750')\n",
        "dataset = datasets.ImageFolder(data_dir)\n",
        "\n",
        "# Get LULC categories\n",
        "class_names = dataset.classes\n",
        "print(\"Class names: {}\".format(class_names))\n",
        "print(\"Total number of classes: {}\".format(len(class_names)))"
      ]
    },
    {
      "cell_type": "markdown",
      "metadata": {
        "id": "7y_37An4Xn64"
      },
      "source": [
        "## Generate Train and Test Sets\n"
      ]
    },
    {
      "cell_type": "markdown",
      "metadata": {
        "id": "qp_i70hQ-ZcX"
      },
      "source": [
        "### Create Custom Dataset Class\n",
        "In Pytorch, the `Dataset` class allows you to define a custom class to load the input and target for a dataset.  We will use this capability to load in our inputs in the form of RGB satellite images along with their corresponding labels."
      ]
    },
    {
      "cell_type": "code",
      "execution_count": 9,
      "metadata": {
        "id": "SsK-rDJyUFpV"
      },
      "outputs": [],
      "source": [
        "class EuroSAT(data.Dataset):\n",
        "    def __init__(self, dataset, transform=None):\n",
        "        self.dataset = dataset\n",
        "        self.transform = transform\n",
        "\n",
        "    def __getitem__(self, index):\n",
        "        # Apply image transformations \n",
        "        if self.transform:\n",
        "            x = self.transform(dataset[index][0])\n",
        "        else:\n",
        "            x = dataset[index][0]\n",
        "        # Get class label\n",
        "        y = dataset[index][1]\n",
        "        return x, y\n",
        "    \n",
        "    def __len__(self):\n",
        "        return len(dataset)"
      ]
    },
    {
      "cell_type": "markdown",
      "metadata": {
        "id": "lY8oTO459LXo"
      },
      "source": [
        "### Split into Train and Test Sets\n",
        "Here, we split the dataset into a train set and test set. The training set will be 80% of the Eurosat dataset, randomly selected. The remaining 20% of the dataset will be our test set."
      ]
    },
    {
      "cell_type": "code",
      "execution_count": 10,
      "metadata": {
        "colab": {
          "base_uri": "https://localhost:8080/"
        },
        "id": "s6_Jm_Vt89-L",
        "outputId": "ab6cd3ea-0ebe-46a9-f7d8-a7469e37173d"
      },
      "outputs": [
        {
          "output_type": "stream",
          "name": "stdout",
          "text": [
            "Train/test sizes: 21600/5400\n"
          ]
        }
      ],
      "source": [
        "# Apply different transformations to the training and test sets\n",
        "train_data = EuroSAT(dataset, train_transform)\n",
        "test_data = EuroSAT(dataset, test_transform)\n",
        "\n",
        "# Randomly split the dataset into 80% train / 20% test \n",
        "# by subsetting the transformed train and test datasets\n",
        "train_size = 0.8\n",
        "indices = list(range(int(len(dataset))))\n",
        "split = int(train_size * len(dataset))\n",
        "np.random.shuffle(indices)\n",
        "\n",
        "train_data = data.Subset(train_data, indices=indices[:split])\n",
        "test_data = data.Subset(test_data, indices=indices[split:])\n",
        "print(\"Train/test sizes: {}/{}\".format(len(train_data), len(test_data)))"
      ]
    },
    {
      "cell_type": "markdown",
      "metadata": {
        "id": "JTD1GGkR8Ss4"
      },
      "source": [
        "Finally, we use `torch`'s `DataLoader` class to create a dataloader.  The dataloader manages fetching samples from the datasets (it can even fetch them in parallel using `num_workers`) and assembles batches of the datasets. "
      ]
    },
    {
      "cell_type": "code",
      "execution_count": 11,
      "metadata": {
        "id": "LhoykOhv8LdN"
      },
      "outputs": [],
      "source": [
        "num_workers = 2\n",
        "batch_size = 16\n",
        "\n",
        "train_loader = data.DataLoader(\n",
        "    train_data, batch_size=batch_size, num_workers=num_workers, shuffle=True\n",
        ")\n",
        "test_loader = data.DataLoader(\n",
        "    test_data, batch_size=batch_size, num_workers=num_workers, shuffle=True\n",
        ")"
      ]
    },
    {
      "cell_type": "code",
      "source": [
        "#for i in train_loader:\n",
        " # print(i)"
      ],
      "metadata": {
        "id": "AINVRluve2tl"
      },
      "execution_count": null,
      "outputs": []
    },
    {
      "cell_type": "markdown",
      "metadata": {
        "id": "BcjHBMnAawgS"
      },
      "source": [
        "## Visualize & Explore Data\n",
        "\n",
        "In the cell below, we will visualize a batch of the dataset.  The cell visualizes the input to the neural network (the RGB image) along with the associated label."
      ]
    },
    {
      "cell_type": "code",
      "execution_count": 12,
      "metadata": {
        "colab": {
          "base_uri": "https://localhost:8080/",
          "height": 482
        },
        "id": "qphYetp0ayIZ",
        "outputId": "9290c133-889a-4e26-8389-71b027bef9c4"
      },
      "outputs": [
        {
          "output_type": "display_data",
          "data": {
            "text/plain": [
              "<Figure size 576x576 with 16 Axes>"
            ],
            "image/png": "[encoded data removed]"
          },
          "metadata": {
            "needs_background": "light"
          }
        }
      ],
      "source": [
        "n = 4\n",
        "inputs, classes = next(iter(train_loader))\n",
        "fig, axes = plt.subplots(n, n, figsize=(8,8))\n",
        "\n",
        "for i in range(n):\n",
        "  for j in range(n):\n",
        "    image = inputs[i * n + j].numpy().transpose((1, 2, 0))\n",
        "    image = np.clip(np.array(imagenet_std) * image + np.array(imagenet_mean), 0, 1)\n",
        "   \n",
        "    title = class_names[classes[i * n + j]]\n",
        "    axes[i, j].imshow(image)\n",
        "    axes[i, j].set_title(title)\n",
        "    axes[i, j].axis('off')"
      ]
    },
    {
      "cell_type": "markdown",
      "metadata": {
        "id": "4O-ZKD5KqdMm"
      },
      "source": [
        "Next, let's explore our dataset a little bit more. In particular, how many images of each class are included?"
      ]
    },
    {
      "cell_type": "code",
      "execution_count": 13,
      "metadata": {
        "colab": {
          "base_uri": "https://localhost:8080/",
          "height": 385
        },
        "id": "zhHebM9-qiAv",
        "outputId": "384a5aba-3f4a-43bb-abf8-010d56fc87a1"
      },
      "outputs": [
        {
          "output_type": "display_data",
          "data": {
            "text/plain": [
              "<Figure size 576x288 with 1 Axes>"
            ],
            "image/png": "[encoded data removed]"
          },
          "metadata": {
            "needs_background": "light"
          }
        }
      ],
      "source": [
        "plt.figure(figsize=(8, 4))\n",
        "hist = sns.histplot(dataset.targets)\n",
        "\n",
        "hist.set_xticks(range(len(dataset.classes)))\n",
        "hist.set_xticklabels(dataset.classes, rotation=90)\n",
        "hist.set_title('Histogram of Dataset Classes in EuroSAT Dataset')\n",
        "\n",
        "plt.show()"
      ]
    },
    {
      "cell_type": "markdown",
      "metadata": {
        "id": "AZ3ef1a34gix"
      },
      "source": [
        "# Model Development\n",
        "\n",
        "## Model Selection: Transfer Learning using ResNet-50\n",
        "\n",
        "To avoid having to train a deep CNN from scratch, we will utilize a network pretrained on another image classification problem to initialize our weights. We choose ResNet50, a popular neural network architecture, since [Helber et al.](https://arxiv.org/pdf/1709.00029.pdf) have shown that ResNet-50 works well for LULC classification on the EuroSAT. ResNet-50 has more than 23 million trainable parameters, which would be computationally infeasible for us to train from scratch.\n",
        "\n",
        "<b>Recall</b>: Deep neural networks are difficult to train due to the problem of vanishing or exploding gradients (repeated multiplication making the gradient infinitively small). ResNet solves this by using shortcut connections that connect activation from an earlier layer to a further layer by skipping one or more layers as shown below. This allows for gradients to propagate to the deeper layers before they can be reduced to small or zero values.\n",
        "<br><br>\n",
        "\n",
        "<center> <img src=\"https://jananisbabu.github.io/ResNet50_From_Scratch_Tensorflow/images/resnet50.png\" width=\"600\"/><br>\n",
        "Image source: <a href=\"https://jananisbabu.github.io/ResNet50_From_Scratch_Tensorflow/\">https://jananisbabu.github.io/ResNet50_From_Scratch_Tensorflow/  </a>\n",
        "</center>\n",
        "<br>\n"
      ]
    },
    {
      "cell_type": "code",
      "execution_count": 14,
      "metadata": {
        "id": "gPXbNl_TLHQQ",
        "outputId": "81a1b534-108c-4ce6-803f-ca8aed508688",
        "colab": {
          "base_uri": "https://localhost:8080/"
        }
      },
      "outputs": [
        {
          "output_type": "stream",
          "name": "stdout",
          "text": [
            "----------------------------------------------------------------\n",
            "        Layer (type)               Output Shape         Param #\n",
            "================================================================\n",
            "            Conv2d-1         [-1, 64, 112, 112]           9,408\n",
            "       BatchNorm2d-2         [-1, 64, 112, 112]             128\n",
            "              ReLU-3         [-1, 64, 112, 112]               0\n",
            "         MaxPool2d-4           [-1, 64, 56, 56]               0\n",
            "            Conv2d-5           [-1, 64, 56, 56]           4,096\n",
            "       BatchNorm2d-6           [-1, 64, 56, 56]             128\n",
            "              ReLU-7           [-1, 64, 56, 56]               0\n",
            "            Conv2d-8           [-1, 64, 56, 56]          36,864\n",
            "       BatchNorm2d-9           [-1, 64, 56, 56]             128\n",
            "             ReLU-10           [-1, 64, 56, 56]               0\n",
            "           Conv2d-11          [-1, 256, 56, 56]          16,384\n",
            "      BatchNorm2d-12          [-1, 256, 56, 56]             512\n",
            "           Conv2d-13          [-1, 256, 56, 56]          16,384\n",
            "      BatchNorm2d-14          [-1, 256, 56, 56]             512\n",
            "             ReLU-15          [-1, 256, 56, 56]               0\n",
            "       Bottleneck-16          [-1, 256, 56, 56]               0\n",
            "           Conv2d-17           [-1, 64, 56, 56]          16,384\n",
            "      BatchNorm2d-18           [-1, 64, 56, 56]             128\n",
            "             ReLU-19           [-1, 64, 56, 56]               0\n",
            "           Conv2d-20           [-1, 64, 56, 56]          36,864\n",
            "      BatchNorm2d-21           [-1, 64, 56, 56]             128\n",
            "             ReLU-22           [-1, 64, 56, 56]               0\n",
            "           Conv2d-23          [-1, 256, 56, 56]          16,384\n",
            "      BatchNorm2d-24          [-1, 256, 56, 56]             512\n",
            "             ReLU-25          [-1, 256, 56, 56]               0\n",
            "       Bottleneck-26          [-1, 256, 56, 56]               0\n",
            "           Conv2d-27           [-1, 64, 56, 56]          16,384\n",
            "      BatchNorm2d-28           [-1, 64, 56, 56]             128\n",
            "             ReLU-29           [-1, 64, 56, 56]               0\n",
            "           Conv2d-30           [-1, 64, 56, 56]          36,864\n",
            "      BatchNorm2d-31           [-1, 64, 56, 56]             128\n",
            "             ReLU-32           [-1, 64, 56, 56]               0\n",
            "           Conv2d-33          [-1, 256, 56, 56]          16,384\n",
            "      BatchNorm2d-34          [-1, 256, 56, 56]             512\n",
            "             ReLU-35          [-1, 256, 56, 56]               0\n",
            "       Bottleneck-36          [-1, 256, 56, 56]               0\n",
            "           Conv2d-37          [-1, 128, 56, 56]          32,768\n",
            "      BatchNorm2d-38          [-1, 128, 56, 56]             256\n",
            "             ReLU-39          [-1, 128, 56, 56]               0\n",
            "           Conv2d-40          [-1, 128, 28, 28]         147,456\n",
            "      BatchNorm2d-41          [-1, 128, 28, 28]             256\n",
            "             ReLU-42          [-1, 128, 28, 28]               0\n",
            "           Conv2d-43          [-1, 512, 28, 28]          65,536\n",
            "      BatchNorm2d-44          [-1, 512, 28, 28]           1,024\n",
            "           Conv2d-45          [-1, 512, 28, 28]         131,072\n",
            "      BatchNorm2d-46          [-1, 512, 28, 28]           1,024\n",
            "             ReLU-47          [-1, 512, 28, 28]               0\n",
            "       Bottleneck-48          [-1, 512, 28, 28]               0\n",
            "           Conv2d-49          [-1, 128, 28, 28]          65,536\n",
            "      BatchNorm2d-50          [-1, 128, 28, 28]             256\n",
            "             ReLU-51          [-1, 128, 28, 28]               0\n",
            "           Conv2d-52          [-1, 128, 28, 28]         147,456\n",
            "      BatchNorm2d-53          [-1, 128, 28, 28]             256\n",
            "             ReLU-54          [-1, 128, 28, 28]               0\n",
            "           Conv2d-55          [-1, 512, 28, 28]          65,536\n",
            "      BatchNorm2d-56          [-1, 512, 28, 28]           1,024\n",
            "             ReLU-57          [-1, 512, 28, 28]               0\n",
            "       Bottleneck-58          [-1, 512, 28, 28]               0\n",
            "           Conv2d-59          [-1, 128, 28, 28]          65,536\n",
            "      BatchNorm2d-60          [-1, 128, 28, 28]             256\n",
            "             ReLU-61          [-1, 128, 28, 28]               0\n",
            "           Conv2d-62          [-1, 128, 28, 28]         147,456\n",
            "      BatchNorm2d-63          [-1, 128, 28, 28]             256\n",
            "             ReLU-64          [-1, 128, 28, 28]               0\n",
            "           Conv2d-65          [-1, 512, 28, 28]          65,536\n",
            "      BatchNorm2d-66          [-1, 512, 28, 28]           1,024\n",
            "             ReLU-67          [-1, 512, 28, 28]               0\n",
            "       Bottleneck-68          [-1, 512, 28, 28]               0\n",
            "           Conv2d-69          [-1, 128, 28, 28]          65,536\n",
            "      BatchNorm2d-70          [-1, 128, 28, 28]             256\n",
            "             ReLU-71          [-1, 128, 28, 28]               0\n",
            "           Conv2d-72          [-1, 128, 28, 28]         147,456\n",
            "      BatchNorm2d-73          [-1, 128, 28, 28]             256\n",
            "             ReLU-74          [-1, 128, 28, 28]               0\n",
            "           Conv2d-75          [-1, 512, 28, 28]          65,536\n",
            "      BatchNorm2d-76          [-1, 512, 28, 28]           1,024\n",
            "             ReLU-77          [-1, 512, 28, 28]               0\n",
            "       Bottleneck-78          [-1, 512, 28, 28]               0\n",
            "           Conv2d-79          [-1, 256, 28, 28]         131,072\n",
            "      BatchNorm2d-80          [-1, 256, 28, 28]             512\n",
            "             ReLU-81          [-1, 256, 28, 28]               0\n",
            "           Conv2d-82          [-1, 256, 14, 14]         589,824\n",
            "      BatchNorm2d-83          [-1, 256, 14, 14]             512\n",
            "             ReLU-84          [-1, 256, 14, 14]               0\n",
            "           Conv2d-85         [-1, 1024, 14, 14]         262,144\n",
            "      BatchNorm2d-86         [-1, 1024, 14, 14]           2,048\n",
            "           Conv2d-87         [-1, 1024, 14, 14]         524,288\n",
            "      BatchNorm2d-88         [-1, 1024, 14, 14]           2,048\n",
            "             ReLU-89         [-1, 1024, 14, 14]               0\n",
            "       Bottleneck-90         [-1, 1024, 14, 14]               0\n",
            "           Conv2d-91          [-1, 256, 14, 14]         262,144\n",
            "      BatchNorm2d-92          [-1, 256, 14, 14]             512\n",
            "             ReLU-93          [-1, 256, 14, 14]               0\n",
            "           Conv2d-94          [-1, 256, 14, 14]         589,824\n",
            "      BatchNorm2d-95          [-1, 256, 14, 14]             512\n",
            "             ReLU-96          [-1, 256, 14, 14]               0\n",
            "           Conv2d-97         [-1, 1024, 14, 14]         262,144\n",
            "      BatchNorm2d-98         [-1, 1024, 14, 14]           2,048\n",
            "             ReLU-99         [-1, 1024, 14, 14]               0\n",
            "      Bottleneck-100         [-1, 1024, 14, 14]               0\n",
            "          Conv2d-101          [-1, 256, 14, 14]         262,144\n",
            "     BatchNorm2d-102          [-1, 256, 14, 14]             512\n",
            "            ReLU-103          [-1, 256, 14, 14]               0\n",
            "          Conv2d-104          [-1, 256, 14, 14]         589,824\n",
            "     BatchNorm2d-105          [-1, 256, 14, 14]             512\n",
            "            ReLU-106          [-1, 256, 14, 14]               0\n",
            "          Conv2d-107         [-1, 1024, 14, 14]         262,144\n",
            "     BatchNorm2d-108         [-1, 1024, 14, 14]           2,048\n",
            "            ReLU-109         [-1, 1024, 14, 14]               0\n",
            "      Bottleneck-110         [-1, 1024, 14, 14]               0\n",
            "          Conv2d-111          [-1, 256, 14, 14]         262,144\n",
            "     BatchNorm2d-112          [-1, 256, 14, 14]             512\n",
            "            ReLU-113          [-1, 256, 14, 14]               0\n",
            "          Conv2d-114          [-1, 256, 14, 14]         589,824\n",
            "     BatchNorm2d-115          [-1, 256, 14, 14]             512\n",
            "            ReLU-116          [-1, 256, 14, 14]               0\n",
            "          Conv2d-117         [-1, 1024, 14, 14]         262,144\n",
            "     BatchNorm2d-118         [-1, 1024, 14, 14]           2,048\n",
            "            ReLU-119         [-1, 1024, 14, 14]               0\n",
            "      Bottleneck-120         [-1, 1024, 14, 14]               0\n",
            "          Conv2d-121          [-1, 256, 14, 14]         262,144\n",
            "     BatchNorm2d-122          [-1, 256, 14, 14]             512\n",
            "            ReLU-123          [-1, 256, 14, 14]               0\n",
            "          Conv2d-124          [-1, 256, 14, 14]         589,824\n",
            "     BatchNorm2d-125          [-1, 256, 14, 14]             512\n",
            "            ReLU-126          [-1, 256, 14, 14]               0\n",
            "          Conv2d-127         [-1, 1024, 14, 14]         262,144\n",
            "     BatchNorm2d-128         [-1, 1024, 14, 14]           2,048\n",
            "            ReLU-129         [-1, 1024, 14, 14]               0\n",
            "      Bottleneck-130         [-1, 1024, 14, 14]               0\n",
            "          Conv2d-131          [-1, 256, 14, 14]         262,144\n",
            "     BatchNorm2d-132          [-1, 256, 14, 14]             512\n",
            "            ReLU-133          [-1, 256, 14, 14]               0\n",
            "          Conv2d-134          [-1, 256, 14, 14]         589,824\n",
            "     BatchNorm2d-135          [-1, 256, 14, 14]             512\n",
            "            ReLU-136          [-1, 256, 14, 14]               0\n",
            "          Conv2d-137         [-1, 1024, 14, 14]         262,144\n",
            "     BatchNorm2d-138         [-1, 1024, 14, 14]           2,048\n",
            "            ReLU-139         [-1, 1024, 14, 14]               0\n",
            "      Bottleneck-140         [-1, 1024, 14, 14]               0\n",
            "          Conv2d-141          [-1, 512, 14, 14]         524,288\n",
            "     BatchNorm2d-142          [-1, 512, 14, 14]           1,024\n",
            "            ReLU-143          [-1, 512, 14, 14]               0\n",
            "          Conv2d-144            [-1, 512, 7, 7]       2,359,296\n",
            "     BatchNorm2d-145            [-1, 512, 7, 7]           1,024\n",
            "            ReLU-146            [-1, 512, 7, 7]               0\n",
            "          Conv2d-147           [-1, 2048, 7, 7]       1,048,576\n",
            "     BatchNorm2d-148           [-1, 2048, 7, 7]           4,096\n",
            "          Conv2d-149           [-1, 2048, 7, 7]       2,097,152\n",
            "     BatchNorm2d-150           [-1, 2048, 7, 7]           4,096\n",
            "            ReLU-151           [-1, 2048, 7, 7]               0\n",
            "      Bottleneck-152           [-1, 2048, 7, 7]               0\n",
            "          Conv2d-153            [-1, 512, 7, 7]       1,048,576\n",
            "     BatchNorm2d-154            [-1, 512, 7, 7]           1,024\n",
            "            ReLU-155            [-1, 512, 7, 7]               0\n",
            "          Conv2d-156            [-1, 512, 7, 7]       2,359,296\n",
            "     BatchNorm2d-157            [-1, 512, 7, 7]           1,024\n",
            "            ReLU-158            [-1, 512, 7, 7]               0\n",
            "          Conv2d-159           [-1, 2048, 7, 7]       1,048,576\n",
            "     BatchNorm2d-160           [-1, 2048, 7, 7]           4,096\n",
            "            ReLU-161           [-1, 2048, 7, 7]               0\n",
            "      Bottleneck-162           [-1, 2048, 7, 7]               0\n",
            "          Conv2d-163            [-1, 512, 7, 7]       1,048,576\n",
            "     BatchNorm2d-164            [-1, 512, 7, 7]           1,024\n",
            "            ReLU-165            [-1, 512, 7, 7]               0\n",
            "          Conv2d-166            [-1, 512, 7, 7]       2,359,296\n",
            "     BatchNorm2d-167            [-1, 512, 7, 7]           1,024\n",
            "            ReLU-168            [-1, 512, 7, 7]               0\n",
            "          Conv2d-169           [-1, 2048, 7, 7]       1,048,576\n",
            "     BatchNorm2d-170           [-1, 2048, 7, 7]           4,096\n",
            "            ReLU-171           [-1, 2048, 7, 7]               0\n",
            "      Bottleneck-172           [-1, 2048, 7, 7]               0\n",
            "AdaptiveAvgPool2d-173           [-1, 2048, 1, 1]               0\n",
            "          Linear-174                   [-1, 10]          20,490\n",
            "================================================================\n",
            "Total params: 23,528,522\n",
            "Trainable params: 23,528,522\n",
            "Non-trainable params: 0\n",
            "----------------------------------------------------------------\n",
            "Input size (MB): 0.57\n",
            "Forward/backward pass size (MB): 286.55\n",
            "Params size (MB): 89.75\n",
            "Estimated Total Size (MB): 376.88\n",
            "----------------------------------------------------------------\n"
          ]
        }
      ],
      "source": [
        "# Specify which pretrained weights we want to use\n",
        "model = models.resnet50(weights=models.ResNet50_Weights.DEFAULT)\n",
        "\n",
        "# Specify how the final fully-connected layer should look like (number of output neurons should correspond to number of classes)\n",
        "model.fc = torch.nn.Linear(model.fc.in_features, len(dataset.classes))\n",
        "\n",
        "model = model.to(device)\n",
        "torchsummary.summary(model, (3, 224, 224))"
      ]
    },
    {
      "cell_type": "code",
      "source": [
        "model(inputs)\n",
        "\n",
        "\n",
        "\n",
        "preds = torch.argmax(outputs, dim=1)\n",
        "#input"
      ],
      "metadata": {
        "id": "UbZOLkHujGLk",
        "outputId": "dfca1e39-d97d-4a0e-fca7-acd7e896593d",
        "colab": {
          "base_uri": "https://localhost:8080/",
          "height": 346
        }
      },
      "execution_count": 18,
      "outputs": [
        {
          "output_type": "error",
          "ename": "RuntimeError",
          "evalue": "ignored",
          "traceback": [
            "\u001b[0;31m---------------------------------------------------------------------------\u001b[0m",
            "\u001b[0;31mRuntimeError\u001b[0m                              Traceback (most recent call last)",
            "\u001b[0;32m<ipython-input-18-b8e7c1a17be3>\u001b[0m in \u001b[0;36m<module>\u001b[0;34m\u001b[0m\n\u001b[0;32m----> 1\u001b[0;31m \u001b[0mmodel\u001b[0m\u001b[0;34m(\u001b[0m\u001b[0minputs\u001b[0m\u001b[0;34m)\u001b[0m\u001b[0;34m\u001b[0m\u001b[0;34m\u001b[0m\u001b[0m\n\u001b[0m\u001b[1;32m      2\u001b[0m \u001b[0;31m#input\u001b[0m\u001b[0;34m\u001b[0m\u001b[0;34m\u001b[0m\u001b[0;34m\u001b[0m\u001b[0m\n",
            "\u001b[0;32m/usr/local/lib/python3.7/dist-packages/torch/nn/modules/module.py\u001b[0m in \u001b[0;36m_call_impl\u001b[0;34m(self, *input, **kwargs)\u001b[0m\n\u001b[1;32m   1128\u001b[0m         if not (self._backward_hooks or self._forward_hooks or self._forward_pre_hooks or _global_backward_hooks\n\u001b[1;32m   1129\u001b[0m                 or _global_forward_hooks or _global_forward_pre_hooks):\n\u001b[0;32m-> 1130\u001b[0;31m             \u001b[0;32mreturn\u001b[0m \u001b[0mforward_call\u001b[0m\u001b[0;34m(\u001b[0m\u001b[0;34m*\u001b[0m\u001b[0minput\u001b[0m\u001b[0;34m,\u001b[0m \u001b[0;34m**\u001b[0m\u001b[0mkwargs\u001b[0m\u001b[0;34m)\u001b[0m\u001b[0;34m\u001b[0m\u001b[0;34m\u001b[0m\u001b[0m\n\u001b[0m\u001b[1;32m   1131\u001b[0m         \u001b[0;31m# Do not call functions when jit is used\u001b[0m\u001b[0;34m\u001b[0m\u001b[0;34m\u001b[0m\u001b[0;34m\u001b[0m\u001b[0m\n\u001b[1;32m   1132\u001b[0m         \u001b[0mfull_backward_hooks\u001b[0m\u001b[0;34m,\u001b[0m \u001b[0mnon_full_backward_hooks\u001b[0m \u001b[0;34m=\u001b[0m \u001b[0;34m[\u001b[0m\u001b[0;34m]\u001b[0m\u001b[0;34m,\u001b[0m \u001b[0;34m[\u001b[0m\u001b[0;34m]\u001b[0m\u001b[0;34m\u001b[0m\u001b[0;34m\u001b[0m\u001b[0m\n",
            "\u001b[0;32m/usr/local/lib/python3.7/dist-packages/torchvision/models/resnet.py\u001b[0m in \u001b[0;36mforward\u001b[0;34m(self, x)\u001b[0m\n\u001b[1;32m    283\u001b[0m \u001b[0;34m\u001b[0m\u001b[0m\n\u001b[1;32m    284\u001b[0m     \u001b[0;32mdef\u001b[0m \u001b[0mforward\u001b[0m\u001b[0;34m(\u001b[0m\u001b[0mself\u001b[0m\u001b[0;34m,\u001b[0m \u001b[0mx\u001b[0m\u001b[0;34m:\u001b[0m \u001b[0mTensor\u001b[0m\u001b[0;34m)\u001b[0m \u001b[0;34m->\u001b[0m \u001b[0mTensor\u001b[0m\u001b[0;34m:\u001b[0m\u001b[0;34m\u001b[0m\u001b[0;34m\u001b[0m\u001b[0m\n\u001b[0;32m--> 285\u001b[0;31m         \u001b[0;32mreturn\u001b[0m \u001b[0mself\u001b[0m\u001b[0;34m.\u001b[0m\u001b[0m_forward_impl\u001b[0m\u001b[0;34m(\u001b[0m\u001b[0mx\u001b[0m\u001b[0;34m)\u001b[0m\u001b[0;34m\u001b[0m\u001b[0;34m\u001b[0m\u001b[0m\n\u001b[0m\u001b[1;32m    286\u001b[0m \u001b[0;34m\u001b[0m\u001b[0m\n\u001b[1;32m    287\u001b[0m \u001b[0;34m\u001b[0m\u001b[0m\n",
            "\u001b[0;32m/usr/local/lib/python3.7/dist-packages/torchvision/models/resnet.py\u001b[0m in \u001b[0;36m_forward_impl\u001b[0;34m(self, x)\u001b[0m\n\u001b[1;32m    266\u001b[0m     \u001b[0;32mdef\u001b[0m \u001b[0m_forward_impl\u001b[0m\u001b[0;34m(\u001b[0m\u001b[0mself\u001b[0m\u001b[0;34m,\u001b[0m \u001b[0mx\u001b[0m\u001b[0;34m:\u001b[0m \u001b[0mTensor\u001b[0m\u001b[0;34m)\u001b[0m \u001b[0;34m->\u001b[0m \u001b[0mTensor\u001b[0m\u001b[0;34m:\u001b[0m\u001b[0;34m\u001b[0m\u001b[0;34m\u001b[0m\u001b[0m\n\u001b[1;32m    267\u001b[0m         \u001b[0;31m# See note [TorchScript super()]\u001b[0m\u001b[0;34m\u001b[0m\u001b[0;34m\u001b[0m\u001b[0;34m\u001b[0m\u001b[0m\n\u001b[0;32m--> 268\u001b[0;31m         \u001b[0mx\u001b[0m \u001b[0;34m=\u001b[0m \u001b[0mself\u001b[0m\u001b[0;34m.\u001b[0m\u001b[0mconv1\u001b[0m\u001b[0;34m(\u001b[0m\u001b[0mx\u001b[0m\u001b[0;34m)\u001b[0m\u001b[0;34m\u001b[0m\u001b[0;34m\u001b[0m\u001b[0m\n\u001b[0m\u001b[1;32m    269\u001b[0m         \u001b[0mx\u001b[0m \u001b[0;34m=\u001b[0m \u001b[0mself\u001b[0m\u001b[0;34m.\u001b[0m\u001b[0mbn1\u001b[0m\u001b[0;34m(\u001b[0m\u001b[0mx\u001b[0m\u001b[0;34m)\u001b[0m\u001b[0;34m\u001b[0m\u001b[0;34m\u001b[0m\u001b[0m\n\u001b[1;32m    270\u001b[0m         \u001b[0mx\u001b[0m \u001b[0;34m=\u001b[0m \u001b[0mself\u001b[0m\u001b[0;34m.\u001b[0m\u001b[0mrelu\u001b[0m\u001b[0;34m(\u001b[0m\u001b[0mx\u001b[0m\u001b[0;34m)\u001b[0m\u001b[0;34m\u001b[0m\u001b[0;34m\u001b[0m\u001b[0m\n",
            "\u001b[0;32m/usr/local/lib/python3.7/dist-packages/torch/nn/modules/module.py\u001b[0m in \u001b[0;36m_call_impl\u001b[0;34m(self, *input, **kwargs)\u001b[0m\n\u001b[1;32m   1128\u001b[0m         if not (self._backward_hooks or self._forward_hooks or self._forward_pre_hooks or _global_backward_hooks\n\u001b[1;32m   1129\u001b[0m                 or _global_forward_hooks or _global_forward_pre_hooks):\n\u001b[0;32m-> 1130\u001b[0;31m             \u001b[0;32mreturn\u001b[0m \u001b[0mforward_call\u001b[0m\u001b[0;34m(\u001b[0m\u001b[0;34m*\u001b[0m\u001b[0minput\u001b[0m\u001b[0;34m,\u001b[0m \u001b[0;34m**\u001b[0m\u001b[0mkwargs\u001b[0m\u001b[0;34m)\u001b[0m\u001b[0;34m\u001b[0m\u001b[0;34m\u001b[0m\u001b[0m\n\u001b[0m\u001b[1;32m   1131\u001b[0m         \u001b[0;31m# Do not call functions when jit is used\u001b[0m\u001b[0;34m\u001b[0m\u001b[0;34m\u001b[0m\u001b[0;34m\u001b[0m\u001b[0m\n\u001b[1;32m   1132\u001b[0m         \u001b[0mfull_backward_hooks\u001b[0m\u001b[0;34m,\u001b[0m \u001b[0mnon_full_backward_hooks\u001b[0m \u001b[0;34m=\u001b[0m \u001b[0;34m[\u001b[0m\u001b[0;34m]\u001b[0m\u001b[0;34m,\u001b[0m \u001b[0;34m[\u001b[0m\u001b[0;34m]\u001b[0m\u001b[0;34m\u001b[0m\u001b[0;34m\u001b[0m\u001b[0m\n",
            "\u001b[0;32m/usr/local/lib/python3.7/dist-packages/torch/nn/modules/conv.py\u001b[0m in \u001b[0;36mforward\u001b[0;34m(self, input)\u001b[0m\n\u001b[1;32m    455\u001b[0m \u001b[0;34m\u001b[0m\u001b[0m\n\u001b[1;32m    456\u001b[0m     \u001b[0;32mdef\u001b[0m \u001b[0mforward\u001b[0m\u001b[0;34m(\u001b[0m\u001b[0mself\u001b[0m\u001b[0;34m,\u001b[0m \u001b[0minput\u001b[0m\u001b[0;34m:\u001b[0m \u001b[0mTensor\u001b[0m\u001b[0;34m)\u001b[0m \u001b[0;34m->\u001b[0m \u001b[0mTensor\u001b[0m\u001b[0;34m:\u001b[0m\u001b[0;34m\u001b[0m\u001b[0;34m\u001b[0m\u001b[0m\n\u001b[0;32m--> 457\u001b[0;31m         \u001b[0;32mreturn\u001b[0m \u001b[0mself\u001b[0m\u001b[0;34m.\u001b[0m\u001b[0m_conv_forward\u001b[0m\u001b[0;34m(\u001b[0m\u001b[0minput\u001b[0m\u001b[0;34m,\u001b[0m \u001b[0mself\u001b[0m\u001b[0;34m.\u001b[0m\u001b[0mweight\u001b[0m\u001b[0;34m,\u001b[0m \u001b[0mself\u001b[0m\u001b[0;34m.\u001b[0m\u001b[0mbias\u001b[0m\u001b[0;34m)\u001b[0m\u001b[0;34m\u001b[0m\u001b[0;34m\u001b[0m\u001b[0m\n\u001b[0m\u001b[1;32m    458\u001b[0m \u001b[0;34m\u001b[0m\u001b[0m\n\u001b[1;32m    459\u001b[0m \u001b[0;32mclass\u001b[0m \u001b[0mConv3d\u001b[0m\u001b[0;34m(\u001b[0m\u001b[0m_ConvNd\u001b[0m\u001b[0;34m)\u001b[0m\u001b[0;34m:\u001b[0m\u001b[0;34m\u001b[0m\u001b[0;34m\u001b[0m\u001b[0m\n",
            "\u001b[0;32m/usr/local/lib/python3.7/dist-packages/torch/nn/modules/conv.py\u001b[0m in \u001b[0;36m_conv_forward\u001b[0;34m(self, input, weight, bias)\u001b[0m\n\u001b[1;32m    452\u001b[0m                             _pair(0), self.dilation, self.groups)\n\u001b[1;32m    453\u001b[0m         return F.conv2d(input, weight, bias, self.stride,\n\u001b[0;32m--> 454\u001b[0;31m                         self.padding, self.dilation, self.groups)\n\u001b[0m\u001b[1;32m    455\u001b[0m \u001b[0;34m\u001b[0m\u001b[0m\n\u001b[1;32m    456\u001b[0m     \u001b[0;32mdef\u001b[0m \u001b[0mforward\u001b[0m\u001b[0;34m(\u001b[0m\u001b[0mself\u001b[0m\u001b[0;34m,\u001b[0m \u001b[0minput\u001b[0m\u001b[0;34m:\u001b[0m \u001b[0mTensor\u001b[0m\u001b[0;34m)\u001b[0m \u001b[0;34m->\u001b[0m \u001b[0mTensor\u001b[0m\u001b[0;34m:\u001b[0m\u001b[0;34m\u001b[0m\u001b[0;34m\u001b[0m\u001b[0m\n",
            "\u001b[0;31mRuntimeError\u001b[0m: Input type (torch.FloatTensor) and weight type (torch.cuda.FloatTensor) should be the same or input should be a MKLDNN tensor and weight is a dense tensor"
          ]
        }
      ]
    },
    {
      "cell_type": "markdown",
      "metadata": {
        "id": "gGf__UVfNNOO"
      },
      "source": [
        "## Model Training and Evaluation\n",
        "\n",
        "We can now proceed to model training and evaluation.\n",
        "\n",
        "This section has three major parts:\n",
        "\n",
        "1. Specify the criterion, optimizer, and hyperparameters (e.g. n_epochs, learning rate, etc.).\n",
        "2. Train the model on the training set by updating its weights to minimize the loss function.\n",
        "3. Evaluate the model on the test set to observe performance on new, unseen data.\n",
        "4. Repeat steps 2 and 3 `n_epochs` times.\n",
        "\n",
        "Let's start by creating our train function."
      ]
    },
    {
      "cell_type": "code",
      "source": [
        "lr = 0.2\n",
        "criterion = torch.nn.CrossEntropyLoss()\n",
        "optimizer = torch.optim.SGD(model.parameters(), lr=lr)"
      ],
      "metadata": {
        "id": "-E3vPAp2nCa2"
      },
      "execution_count": 19,
      "outputs": []
    },
    {
      "cell_type": "code",
      "execution_count": 22,
      "metadata": {
        "id": "eE4entSvNc2q"
      },
      "outputs": [],
      "source": [
        "def train(model, dataloader, criterion, optimizer):\n",
        "  model.train()\n",
        "\n",
        "  running_loss = 0.0\n",
        "  running_total_correct = 0.0\n",
        "\n",
        "  for i, (inputs, labels) in enumerate(tqdm(dataloader)):\n",
        "    inputs = inputs.to(device)\n",
        "    labels = labels.to(device)\n",
        "\n",
        "    '''\n",
        "    TODO: Task 1 - Implement the forward pass, prediction making, loss computation, backward propagation, and weights update using PyTorch.\n",
        "    '''\n",
        "\n",
        "    forward_out = model.forward(inputs)\n",
        "    \n",
        "    preds = torch.argmax(forward_out, dim=1)\n",
        "\n",
        "    loss = criterion(forward_out, labels)\n",
        "    backward_out = loss.backward()\n",
        "\n",
        "    update = optimizer.step(backward_out)\n",
        "    \n",
        "\n",
        "    # Calculate running loss and accuracy\n",
        "    running_loss += loss.item() * inputs.size(0)\n",
        "    running_total_correct += torch.sum(preds == labels)\n",
        "\n",
        "  # Calculate epoch loss and accuracy\n",
        "  epoch_loss = running_loss / len(dataloader.dataset)\n",
        "  epoch_accuracy = (running_total_correct / len(dataloader.dataset)) * 100\n",
        "  print(\"Train Loss: {:.2f}; Accuracy: {:.2f}\".format(epoch_loss, epoch_accuracy))\n",
        "\n",
        "  return epoch_loss, epoch_accuracy"
      ]
    },
    {
      "cell_type": "code",
      "source": [
        "train(model, train_loader, criterion=criterion, optimizer= optimizer)"
      ],
      "metadata": {
        "colab": {
          "base_uri": "https://localhost:8080/",
          "height": 84,
          "referenced_widgets": [
            "5b29b69b2659455fb10fe2819d833bea",
            "7a72bb9b749644c8b5c46ab2ae804995",
            "6a82144893dc4271b3af40d9fe6532c0",
            "2653d08f94bc420db50b0f950a1dffaf",
            "24e9a6fddfba40dea94145552ab6471d",
            "cb64605cc6ef4619aaaf3dbd3652d11e",
            "b6ca8aaf144e4234a9834c1e97d601d5",
            "74a27a992480455a968d95f43919357b",
            "90433c2073da4734a0992e04d2ef0da3",
            "20c5aeea83484676b717f8a06dfb66ec",
            "57f0df148bdc4daa9831f04392340338"
          ]
        },
        "id": "dcV8oHlYm44f",
        "outputId": "c44f8705-67bc-4d80-88dd-79b69e9f2e69"
      },
      "execution_count": 23,
      "outputs": [
        {
          "output_type": "display_data",
          "data": {
            "text/plain": [
              "  0%|          | 0/1350 [00:00<?, ?it/s]"
            ],
            "application/vnd.jupyter.widget-view+json": {
              "version_major": 2,
              "version_minor": 0,
              "model_id": "5b29b69b2659455fb10fe2819d833bea"
            }
          },
          "metadata": {}
        },
        {
          "output_type": "stream",
          "name": "stdout",
          "text": [
            "Train Loss: 10.62; Accuracy: 12.48\n"
          ]
        },
        {
          "output_type": "execute_result",
          "data": {
            "text/plain": [
              "(10.621430964734818, tensor(12.4769, device='cuda:0'))"
            ]
          },
          "metadata": {},
          "execution_count": 23
        }
      ]
    },
    {
      "cell_type": "code",
      "source": [
        "for i, (inputs, labels) in enumerate(tqdm(train_loader)):\n",
        "    inputs = inputs.to(device)\n",
        "    labels = labels.to(device)\n",
        "    print(labels)"
      ],
      "metadata": {
        "id": "ZJrO0Q73j2Td",
        "outputId": "aca1721f-44b7-4321-b6ee-b347aba6f567",
        "colab": {
          "base_uri": "https://localhost:8080/",
          "height": 1000,
          "referenced_widgets": [
            "f5c681cc75974b0d8e1a02c1bcaf6672",
            "22b32cd94eeb4878ba3932088e6d545c",
            "95ca81b3940b468ca7094d41c88366c7",
            "93e9430a351a4cc5b10d9575b4678e30",
            "5dcfa973f5294ec89f9b51b4d53a60ed",
            "0e922149c1f14b8aa62c88f0671301da",
            "830234a6dcef4625bc729c92294d1dd9",
            "c8e424eedebf4a078c7591b660789ef8",
            "0428beb46f1240c6be532236eaaab1a0",
            "8e8559fc9b18432ba77b789606770390",
            "9330736a1a4c415cac3a18d8c3a2f503"
          ]
        }
      },
      "execution_count": 24,
      "outputs": [
        {
          "output_type": "display_data",
          "data": {
            "text/plain": [
              "  0%|          | 0/1350 [00:00<?, ?it/s]"
            ],
            "application/vnd.jupyter.widget-view+json": {
              "version_major": 2,
              "version_minor": 0,
              "model_id": "f5c681cc75974b0d8e1a02c1bcaf6672"
            }
          },
          "metadata": {}
        },
        {
          "output_type": "stream",
          "name": "stdout",
          "text": [
            "tensor([2, 3, 9, 7, 8, 0, 2, 2, 7, 1, 9, 0, 4, 8, 2, 3], device='cuda:0')\n",
            "tensor([6, 2, 5, 9, 1, 5, 1, 9, 2, 9, 1, 9, 9, 6, 6, 6], device='cuda:0')\n",
            "tensor([6, 2, 5, 1, 6, 1, 9, 1, 7, 6, 1, 5, 9, 9, 5, 1], device='cuda:0')\n",
            "tensor([5, 9, 8, 0, 2, 9, 6, 2, 2, 1, 6, 2, 0, 7, 3, 9], device='cuda:0')\n",
            "tensor([9, 5, 2, 1, 1, 9, 9, 3, 2, 6, 1, 6, 0, 3, 9, 5], device='cuda:0')\n",
            "tensor([9, 7, 0, 8, 3, 1, 2, 2, 8, 3, 2, 6, 1, 9, 7, 7], device='cuda:0')\n",
            "tensor([4, 7, 9, 8, 7, 1, 5, 9, 8, 1, 1, 2, 8, 9, 7, 3], device='cuda:0')\n",
            "tensor([4, 6, 4, 4, 8, 8, 3, 7, 9, 4, 2, 2, 2, 2, 2, 6], device='cuda:0')\n",
            "tensor([8, 2, 7, 1, 5, 7, 0, 9, 9, 4, 9, 0, 8, 8, 6, 8], device='cuda:0')\n",
            "tensor([1, 3, 8, 9, 0, 3, 2, 7, 2, 7, 2, 8, 6, 5, 5, 0], device='cuda:0')\n",
            "tensor([2, 0, 2, 8, 1, 3, 9, 7, 4, 2, 4, 1, 8, 0, 0, 3], device='cuda:0')\n",
            "tensor([7, 8, 4, 8, 6, 1, 3, 6, 2, 9, 7, 2, 3, 3, 0, 8], device='cuda:0')\n",
            "tensor([3, 6, 4, 7, 7, 0, 6, 2, 8, 9, 2, 6, 1, 1, 0, 2], device='cuda:0')\n",
            "tensor([7, 9, 8, 0, 2, 8, 7, 1, 3, 0, 1, 3, 4, 2, 9, 1], device='cuda:0')\n",
            "tensor([2, 7, 5, 7, 3, 3, 1, 9, 2, 5, 1, 0, 4, 0, 5, 2], device='cuda:0')\n",
            "tensor([9, 7, 6, 6, 8, 0, 1, 6, 3, 9, 4, 7, 8, 5, 0, 1], device='cuda:0')\n",
            "tensor([0, 8, 3, 9, 2, 6, 0, 1, 0, 3, 0, 1, 7, 9, 2, 5], device='cuda:0')\n",
            "tensor([5, 7, 4, 8, 9, 3, 7, 2, 1, 7, 1, 7, 2, 9, 8, 4], device='cuda:0')\n",
            "tensor([6, 0, 0, 3, 2, 4, 7, 3, 0, 2, 8, 9, 4, 0, 0, 8], device='cuda:0')\n",
            "tensor([6, 6, 9, 0, 4, 1, 8, 2, 9, 9, 6, 6, 0, 1, 7, 8], device='cuda:0')\n",
            "tensor([2, 7, 1, 3, 3, 1, 7, 3, 5, 5, 9, 4, 8, 2, 7, 3], device='cuda:0')\n",
            "tensor([9, 8, 0, 0, 9, 4, 5, 9, 4, 6, 2, 1, 7, 5, 3, 4], device='cuda:0')\n",
            "tensor([2, 5, 2, 0, 6, 3, 7, 2, 9, 4, 3, 2, 7, 0, 1, 4], device='cuda:0')\n",
            "tensor([3, 9, 0, 7, 3, 1, 0, 8, 6, 1, 6, 9, 3, 0, 5, 4], device='cuda:0')\n",
            "tensor([3, 2, 0, 2, 8, 4, 1, 5, 3, 4, 0, 4, 7, 2, 8, 6], device='cuda:0')\n",
            "tensor([7, 6, 6, 0, 5, 7, 1, 7, 0, 0, 0, 5, 8, 7, 4, 3], device='cuda:0')\n",
            "tensor([9, 8, 3, 7, 9, 5, 0, 5, 1, 4, 8, 4, 2, 7, 3, 1], device='cuda:0')\n",
            "tensor([3, 5, 7, 7, 6, 7, 6, 8, 6, 7, 2, 1, 2, 8, 3, 1], device='cuda:0')\n",
            "tensor([0, 1, 9, 4, 9, 5, 1, 6, 9, 3, 6, 6, 4, 1, 5, 8], device='cuda:0')\n",
            "tensor([0, 3, 3, 1, 3, 6, 4, 3, 7, 3, 7, 0, 9, 2, 3, 6], device='cuda:0')\n",
            "tensor([8, 4, 0, 0, 8, 9, 4, 4, 7, 3, 9, 0, 1, 6, 1, 0], device='cuda:0')\n",
            "tensor([2, 1, 7, 3, 5, 2, 9, 0, 9, 2, 2, 2, 4, 2, 8, 0], device='cuda:0')\n",
            "tensor([1, 1, 0, 8, 6, 4, 7, 0, 4, 7, 8, 4, 7, 3, 6, 5], device='cuda:0')\n",
            "tensor([7, 9, 9, 8, 0, 6, 8, 0, 7, 1, 4, 6, 1, 0, 7, 8], device='cuda:0')\n",
            "tensor([3, 3, 6, 1, 0, 2, 7, 1, 0, 1, 0, 2, 4, 0, 3, 4], device='cuda:0')\n",
            "tensor([8, 0, 1, 3, 1, 2, 4, 0, 7, 8, 6, 9, 8, 4, 3, 2], device='cuda:0')\n",
            "tensor([9, 0, 8, 6, 5, 6, 1, 2, 5, 9, 3, 8, 6, 8, 9, 7], device='cuda:0')\n",
            "tensor([3, 0, 1, 9, 0, 1, 3, 5, 6, 5, 0, 1, 7, 0, 9, 7], device='cuda:0')\n",
            "tensor([5, 9, 0, 5, 5, 1, 6, 6, 2, 6, 6, 3, 9, 9, 2, 7], device='cuda:0')\n",
            "tensor([4, 1, 9, 3, 8, 7, 6, 2, 5, 8, 8, 9, 8, 4, 5, 0], device='cuda:0')\n",
            "tensor([2, 9, 2, 0, 2, 7, 0, 8, 0, 7, 8, 1, 7, 6, 0, 9], device='cuda:0')\n",
            "tensor([5, 6, 8, 2, 1, 2, 6, 9, 3, 5, 6, 2, 0, 4, 5, 2], device='cuda:0')\n",
            "tensor([7, 3, 9, 2, 0, 0, 7, 6, 6, 9, 7, 4, 0, 1, 8, 9], device='cuda:0')\n",
            "tensor([4, 1, 7, 5, 8, 4, 3, 7, 2, 5, 5, 8, 3, 1, 1, 9], device='cuda:0')\n",
            "tensor([7, 7, 6, 2, 1, 4, 2, 5, 2, 9, 1, 7, 6, 4, 1, 1], device='cuda:0')\n",
            "tensor([5, 2, 6, 2, 1, 3, 3, 1, 2, 0, 2, 9, 3, 2, 1, 8], device='cuda:0')\n",
            "tensor([2, 5, 8, 7, 9, 2, 0, 3, 9, 3, 2, 6, 1, 1, 2, 1], device='cuda:0')\n",
            "tensor([4, 8, 7, 0, 9, 1, 7, 3, 3, 8, 9, 2, 5, 0, 2, 0], device='cuda:0')\n",
            "tensor([9, 8, 9, 8, 3, 7, 8, 7, 5, 8, 3, 0, 1, 8, 8, 6], device='cuda:0')\n",
            "tensor([3, 4, 2, 9, 3, 8, 9, 0, 1, 4, 1, 0, 1, 2, 5, 8], device='cuda:0')\n",
            "tensor([2, 3, 1, 0, 8, 1, 4, 6, 3, 8, 1, 1, 3, 2, 4, 1], device='cuda:0')\n",
            "tensor([5, 7, 9, 9, 7, 7, 4, 4, 2, 9, 0, 6, 6, 0, 9, 0], device='cuda:0')\n",
            "tensor([3, 9, 9, 7, 9, 9, 1, 7, 2, 2, 6, 8, 8, 6, 7, 1], device='cuda:0')\n",
            "tensor([1, 5, 9, 4, 1, 8, 5, 0, 7, 7, 3, 7, 1, 8, 7, 3], device='cuda:0')\n",
            "tensor([1, 7, 0, 5, 7, 9, 2, 7, 0, 3, 6, 8, 3, 2, 7, 2], device='cuda:0')\n",
            "tensor([0, 8, 6, 3, 9, 9, 2, 4, 2, 7, 4, 1, 1, 3, 9, 1], device='cuda:0')\n",
            "tensor([9, 1, 2, 6, 7, 3, 4, 6, 2, 6, 5, 7, 5, 2, 7, 0], device='cuda:0')\n",
            "tensor([0, 2, 8, 3, 2, 4, 5, 9, 9, 0, 4, 5, 9, 9, 6, 4], device='cuda:0')\n",
            "tensor([6, 0, 0, 6, 2, 2, 8, 3, 2, 6, 3, 6, 9, 2, 1, 4], device='cuda:0')\n",
            "tensor([2, 1, 8, 0, 0, 9, 6, 8, 8, 9, 9, 9, 8, 3, 2, 9], device='cuda:0')\n",
            "tensor([0, 7, 3, 3, 3, 9, 0, 1, 6, 6, 9, 4, 7, 2, 4, 5], device='cuda:0')\n",
            "tensor([0, 4, 2, 2, 4, 5, 1, 0, 0, 1, 0, 2, 5, 7, 2, 2], device='cuda:0')\n",
            "tensor([7, 5, 6, 7, 7, 2, 2, 8, 7, 5, 4, 7, 5, 7, 2, 2], device='cuda:0')\n",
            "tensor([5, 3, 3, 3, 1, 0, 9, 0, 5, 3, 0, 0, 9, 2, 8, 4], device='cuda:0')\n",
            "tensor([7, 9, 5, 4, 4, 9, 9, 9, 0, 1, 7, 8, 9, 6, 0, 3], device='cuda:0')\n",
            "tensor([3, 9, 5, 7, 1, 0, 4, 3, 7, 4, 6, 4, 6, 4, 9, 0], device='cuda:0')\n",
            "tensor([1, 1, 4, 9, 8, 6, 2, 9, 1, 1, 9, 9, 7, 6, 2, 3], device='cuda:0')\n",
            "tensor([9, 6, 1, 4, 0, 8, 4, 7, 0, 1, 0, 3, 8, 0, 7, 2], device='cuda:0')\n",
            "tensor([2, 1, 8, 1, 3, 9, 7, 7, 8, 9, 4, 2, 9, 9, 3, 8], device='cuda:0')\n",
            "tensor([4, 9, 3, 3, 0, 4, 0, 4, 3, 2, 3, 4, 8, 4, 5, 2], device='cuda:0')\n",
            "tensor([8, 9, 7, 2, 8, 6, 6, 9, 8, 7, 8, 8, 2, 7, 1, 2], device='cuda:0')\n",
            "tensor([0, 8, 7, 0, 0, 0, 6, 7, 1, 7, 5, 0, 0, 2, 0, 2], device='cuda:0')\n",
            "tensor([4, 2, 5, 5, 0, 2, 2, 6, 2, 2, 2, 4, 1, 5, 9, 9], device='cuda:0')\n",
            "tensor([1, 5, 7, 3, 3, 6, 8, 0, 2, 7, 6, 5, 2, 2, 3, 1], device='cuda:0')\n",
            "tensor([3, 0, 9, 8, 3, 9, 1, 3, 6, 0, 0, 1, 9, 3, 9, 9], device='cuda:0')\n",
            "tensor([1, 1, 6, 1, 1, 2, 7, 0, 9, 5, 3, 6, 5, 7, 2, 4], device='cuda:0')\n",
            "tensor([1, 8, 5, 0, 2, 8, 3, 8, 4, 5, 6, 9, 2, 2, 9, 6], device='cuda:0')\n",
            "tensor([9, 0, 4, 2, 5, 0, 3, 8, 4, 2, 0, 3, 4, 1, 6, 4], device='cuda:0')\n",
            "tensor([9, 7, 7, 1, 3, 6, 8, 3, 3, 8, 6, 3, 2, 2, 4, 8], device='cuda:0')\n",
            "tensor([8, 9, 6, 1, 7, 3, 6, 9, 8, 8, 5, 2, 3, 0, 7, 0], device='cuda:0')\n",
            "tensor([8, 4, 1, 2, 7, 0, 7, 6, 0, 3, 7, 2, 8, 7, 7, 3], device='cuda:0')\n",
            "tensor([7, 3, 9, 1, 7, 8, 5, 4, 1, 4, 7, 2, 6, 1, 0, 9], device='cuda:0')\n",
            "tensor([0, 9, 4, 6, 8, 6, 7, 7, 6, 4, 9, 1, 6, 3, 2, 1], device='cuda:0')\n",
            "tensor([4, 9, 2, 6, 2, 1, 5, 7, 2, 2, 5, 9, 5, 4, 8, 7], device='cuda:0')\n",
            "tensor([4, 9, 7, 3, 1, 2, 7, 5, 6, 7, 2, 8, 5, 5, 3, 1], device='cuda:0')\n",
            "tensor([1, 4, 2, 3, 1, 3, 3, 7, 9, 2, 3, 8, 2, 3, 1, 3], device='cuda:0')\n",
            "tensor([7, 5, 9, 1, 1, 2, 7, 6, 0, 6, 3, 8, 1, 7, 1, 0], device='cuda:0')\n",
            "tensor([5, 1, 7, 7, 0, 9, 4, 0, 3, 3, 5, 4, 5, 1, 9, 9], device='cuda:0')\n",
            "tensor([0, 8, 9, 4, 0, 4, 2, 6, 4, 9, 1, 5, 1, 4, 9, 9], device='cuda:0')\n",
            "tensor([4, 1, 7, 1, 2, 2, 7, 4, 9, 1, 7, 7, 0, 6, 8, 7], device='cuda:0')\n",
            "tensor([4, 8, 5, 0, 9, 7, 1, 8, 7, 7, 5, 0, 8, 2, 6, 6], device='cuda:0')\n",
            "tensor([5, 8, 0, 3, 4, 6, 0, 7, 0, 4, 3, 9, 1, 7, 6, 5], device='cuda:0')\n",
            "tensor([7, 6, 1, 4, 8, 4, 2, 3, 8, 9, 6, 7, 1, 7, 5, 2], device='cuda:0')\n",
            "tensor([8, 5, 6, 6, 2, 4, 0, 1, 2, 9, 3, 4, 6, 9, 6, 7], device='cuda:0')\n",
            "tensor([2, 8, 8, 3, 1, 0, 7, 2, 9, 4, 3, 2, 8, 0, 8, 7], device='cuda:0')\n",
            "tensor([4, 4, 4, 9, 6, 8, 8, 7, 5, 1, 9, 1, 5, 1, 3, 5], device='cuda:0')\n",
            "tensor([0, 4, 8, 0, 6, 3, 2, 0, 7, 4, 3, 1, 7, 6, 0, 0], device='cuda:0')\n",
            "tensor([8, 8, 0, 3, 2, 7, 5, 9, 9, 9, 6, 6, 0, 9, 3, 1], device='cuda:0')\n",
            "tensor([5, 8, 8, 6, 4, 5, 6, 7, 1, 4, 3, 3, 5, 8, 1, 9], device='cuda:0')\n",
            "tensor([9, 6, 3, 9, 9, 3, 8, 0, 5, 2, 7, 0, 5, 0, 0, 2], device='cuda:0')\n",
            "tensor([9, 4, 6, 5, 3, 2, 8, 9, 5, 0, 9, 0, 9, 6, 1, 8], device='cuda:0')\n",
            "tensor([7, 8, 2, 4, 8, 2, 2, 5, 1, 1, 8, 2, 4, 2, 7, 1], device='cuda:0')\n",
            "tensor([2, 1, 3, 8, 4, 2, 7, 3, 7, 1, 7, 0, 3, 9, 8, 9], device='cuda:0')\n",
            "tensor([5, 3, 0, 1, 2, 6, 1, 9, 6, 3, 0, 3, 4, 0, 7, 7], device='cuda:0')\n",
            "tensor([8, 7, 6, 3, 9, 7, 3, 0, 2, 6, 1, 3, 6, 6, 3, 2], device='cuda:0')\n",
            "tensor([2, 9, 0, 4, 5, 5, 0, 6, 5, 6, 8, 5, 1, 1, 9, 3], device='cuda:0')\n",
            "tensor([2, 5, 2, 1, 7, 9, 8, 4, 0, 9, 1, 3, 9, 5, 2, 5], device='cuda:0')\n",
            "tensor([7, 6, 2, 8, 8, 3, 6, 3, 6, 7, 4, 6, 3, 4, 9, 8], device='cuda:0')\n",
            "tensor([9, 9, 8, 7, 2, 4, 6, 9, 0, 1, 7, 2, 4, 1, 9, 2], device='cuda:0')\n",
            "tensor([9, 8, 2, 7, 9, 1, 2, 9, 9, 8, 8, 6, 0, 1, 0, 7], device='cuda:0')\n",
            "tensor([2, 0, 0, 5, 6, 8, 2, 3, 9, 0, 0, 1, 4, 1, 6, 2], device='cuda:0')\n",
            "tensor([2, 3, 8, 8, 3, 4, 7, 7, 0, 2, 1, 3, 3, 4, 8, 1], device='cuda:0')\n",
            "tensor([6, 7, 9, 2, 3, 3, 4, 5, 6, 8, 6, 8, 0, 0, 2, 5], device='cuda:0')\n",
            "tensor([7, 7, 8, 0, 1, 4, 4, 7, 1, 2, 8, 6, 3, 4, 2, 4], device='cuda:0')\n",
            "tensor([7, 6, 1, 7, 4, 2, 9, 1, 9, 0, 7, 0, 2, 2, 6, 5], device='cuda:0')\n",
            "tensor([9, 8, 8, 8, 1, 9, 2, 8, 4, 2, 2, 2, 1, 3, 7, 9], device='cuda:0')\n",
            "tensor([6, 5, 7, 3, 0, 8, 5, 0, 7, 3, 6, 0, 5, 8, 2, 0], device='cuda:0')\n",
            "tensor([2, 4, 6, 2, 1, 7, 9, 4, 7, 0, 4, 5, 6, 2, 7, 5], device='cuda:0')\n",
            "tensor([5, 3, 2, 3, 9, 2, 3, 0, 0, 4, 0, 4, 2, 1, 5, 2], device='cuda:0')\n",
            "tensor([7, 4, 9, 1, 0, 2, 4, 9, 6, 4, 7, 0, 7, 7, 7, 6], device='cuda:0')\n",
            "tensor([5, 4, 2, 9, 8, 0, 8, 0, 9, 6, 0, 7, 2, 0, 2, 7], device='cuda:0')\n",
            "tensor([8, 9, 2, 2, 2, 1, 6, 0, 8, 0, 3, 6, 1, 7, 5, 0], device='cuda:0')\n",
            "tensor([8, 1, 4, 0, 8, 1, 7, 2, 7, 7, 3, 9, 6, 1, 1, 8], device='cuda:0')\n",
            "tensor([8, 8, 9, 8, 3, 4, 1, 2, 7, 1, 5, 0, 9, 1, 5, 7], device='cuda:0')\n",
            "tensor([7, 8, 5, 2, 7, 2, 1, 7, 2, 3, 2, 6, 9, 1, 2, 0], device='cuda:0')\n",
            "tensor([4, 1, 9, 3, 9, 3, 5, 0, 6, 5, 2, 8, 1, 4, 8, 1], device='cuda:0')\n",
            "tensor([1, 2, 9, 6, 1, 0, 9, 8, 2, 3, 2, 7, 1, 7, 9, 8], device='cuda:0')\n",
            "tensor([2, 7, 0, 1, 6, 6, 5, 5, 5, 9, 9, 0, 9, 8, 2, 0], device='cuda:0')\n",
            "tensor([1, 4, 8, 1, 2, 7, 0, 2, 9, 8, 1, 2, 3, 9, 1, 3], device='cuda:0')\n",
            "tensor([5, 4, 0, 3, 0, 9, 6, 3, 5, 2, 9, 1, 5, 4, 2, 0], device='cuda:0')\n",
            "tensor([7, 8, 5, 2, 5, 3, 7, 9, 4, 5, 9, 1, 5, 2, 0, 3], device='cuda:0')\n",
            "tensor([1, 5, 8, 3, 6, 3, 9, 8, 4, 8, 4, 1, 6, 9, 9, 5], device='cuda:0')\n",
            "tensor([5, 7, 5, 7, 8, 1, 7, 6, 6, 2, 4, 7, 3, 6, 1, 3], device='cuda:0')\n",
            "tensor([6, 8, 6, 2, 0, 9, 0, 6, 7, 1, 5, 4, 3, 0, 3, 2], device='cuda:0')\n",
            "tensor([5, 1, 6, 1, 1, 8, 1, 2, 7, 2, 3, 2, 0, 2, 2, 1], device='cuda:0')\n",
            "tensor([7, 4, 3, 7, 8, 8, 0, 3, 9, 0, 9, 9, 0, 3, 2, 4], device='cuda:0')\n",
            "tensor([6, 1, 9, 3, 9, 9, 0, 7, 5, 7, 8, 6, 9, 1, 1, 7], device='cuda:0')\n",
            "tensor([8, 0, 1, 2, 0, 4, 4, 4, 2, 0, 9, 6, 8, 2, 7, 0], device='cuda:0')\n",
            "tensor([0, 3, 4, 1, 5, 9, 2, 4, 5, 4, 3, 7, 3, 4, 7, 3], device='cuda:0')\n",
            "tensor([1, 9, 0, 1, 7, 2, 7, 6, 9, 4, 1, 8, 0, 5, 3, 0], device='cuda:0')\n",
            "tensor([1, 6, 7, 2, 6, 5, 6, 3, 2, 0, 8, 2, 0, 6, 6, 7], device='cuda:0')\n",
            "tensor([6, 8, 3, 1, 7, 3, 6, 0, 2, 1, 4, 7, 2, 7, 3, 9], device='cuda:0')\n",
            "tensor([5, 0, 0, 7, 9, 6, 0, 2, 9, 7, 9, 2, 2, 2, 6, 5], device='cuda:0')\n",
            "tensor([5, 1, 7, 7, 0, 0, 1, 8, 3, 0, 3, 2, 3, 6, 4, 0], device='cuda:0')\n",
            "tensor([5, 4, 0, 2, 5, 9, 1, 8, 5, 7, 0, 5, 9, 2, 4, 0], device='cuda:0')\n",
            "tensor([2, 4, 0, 1, 7, 9, 2, 9, 3, 3, 0, 5, 3, 6, 6, 7], device='cuda:0')\n",
            "tensor([1, 2, 0, 9, 2, 2, 8, 1, 1, 7, 6, 6, 6, 7, 1, 7], device='cuda:0')\n",
            "tensor([5, 2, 3, 4, 0, 4, 2, 6, 7, 1, 9, 7, 6, 5, 3, 6], device='cuda:0')\n",
            "tensor([1, 5, 2, 4, 6, 7, 3, 2, 0, 5, 2, 4, 8, 5, 4, 2], device='cuda:0')\n",
            "tensor([8, 2, 9, 0, 4, 5, 6, 2, 0, 5, 2, 0, 1, 0, 2, 0], device='cuda:0')\n",
            "tensor([1, 0, 6, 9, 3, 1, 0, 9, 7, 5, 8, 1, 0, 1, 4, 8], device='cuda:0')\n",
            "tensor([8, 3, 6, 0, 1, 2, 3, 8, 4, 8, 2, 3, 2, 8, 2, 7], device='cuda:0')\n",
            "tensor([5, 9, 3, 3, 6, 9, 4, 3, 1, 2, 2, 2, 3, 7, 2, 7], device='cuda:0')\n",
            "tensor([0, 2, 0, 4, 8, 1, 7, 3, 5, 9, 5, 4, 0, 8, 7, 4], device='cuda:0')\n",
            "tensor([0, 7, 2, 6, 0, 1, 8, 7, 4, 0, 6, 9, 7, 2, 0, 2], device='cuda:0')\n",
            "tensor([1, 3, 4, 9, 6, 1, 7, 9, 4, 0, 7, 2, 2, 3, 1, 2], device='cuda:0')\n",
            "tensor([5, 7, 3, 4, 7, 2, 7, 2, 6, 8, 0, 5, 2, 4, 0, 6], device='cuda:0')\n",
            "tensor([6, 4, 4, 2, 0, 7, 8, 4, 3, 9, 2, 7, 2, 9, 6, 0], device='cuda:0')\n",
            "tensor([8, 1, 8, 4, 1, 6, 2, 3, 6, 9, 1, 2, 7, 6, 0, 0], device='cuda:0')\n",
            "tensor([6, 6, 9, 6, 3, 0, 7, 2, 8, 0, 7, 3, 9, 4, 0, 1], device='cuda:0')\n",
            "tensor([7, 6, 5, 1, 2, 8, 4, 4, 6, 5, 2, 4, 0, 4, 1, 3], device='cuda:0')\n",
            "tensor([4, 5, 5, 8, 7, 0, 9, 0, 9, 8, 9, 8, 5, 0, 6, 0], device='cuda:0')\n",
            "tensor([3, 9, 4, 4, 1, 8, 8, 2, 7, 3, 5, 2, 1, 7, 4, 2], device='cuda:0')\n",
            "tensor([1, 0, 9, 2, 1, 5, 9, 1, 0, 6, 6, 0, 5, 6, 9, 9], device='cuda:0')\n",
            "tensor([8, 8, 2, 7, 1, 8, 1, 7, 9, 9, 8, 8, 0, 5, 0, 3], device='cuda:0')\n",
            "tensor([6, 4, 3, 6, 7, 1, 2, 2, 8, 7, 2, 9, 7, 6, 8, 5], device='cuda:0')\n",
            "tensor([9, 3, 6, 2, 9, 7, 8, 9, 9, 5, 8, 4, 1, 3, 2, 7], device='cuda:0')\n",
            "tensor([9, 5, 6, 4, 3, 7, 4, 7, 4, 2, 5, 6, 5, 7, 9, 2], device='cuda:0')\n",
            "tensor([8, 3, 5, 1, 1, 2, 9, 3, 2, 1, 0, 0, 2, 9, 2, 4], device='cuda:0')\n",
            "tensor([8, 0, 0, 7, 7, 0, 2, 2, 6, 8, 1, 8, 0, 8, 3, 2], device='cuda:0')\n",
            "tensor([7, 5, 1, 9, 9, 6, 4, 5, 8, 0, 4, 3, 9, 9, 3, 6], device='cuda:0')\n",
            "tensor([1, 9, 5, 9, 7, 2, 8, 0, 6, 0, 7, 9, 2, 4, 8, 7], device='cuda:0')\n",
            "tensor([1, 1, 9, 5, 4, 2, 2, 2, 1, 9, 2, 2, 2, 1, 1, 8], device='cuda:0')\n",
            "tensor([1, 1, 4, 0, 6, 5, 1, 8, 2, 3, 7, 1, 4, 7, 2, 9], device='cuda:0')\n",
            "tensor([1, 1, 7, 8, 6, 0, 5, 2, 3, 8, 2, 0, 8, 8, 7, 8], device='cuda:0')\n",
            "tensor([2, 8, 1, 5, 5, 5, 3, 9, 2, 3, 6, 4, 5, 0, 2, 2], device='cuda:0')\n",
            "tensor([8, 9, 8, 8, 6, 5, 9, 9, 6, 0, 9, 9, 9, 9, 6, 1], device='cuda:0')\n",
            "tensor([8, 0, 4, 7, 1, 2, 1, 7, 7, 2, 6, 2, 1, 7, 3, 1], device='cuda:0')\n",
            "tensor([2, 1, 3, 9, 3, 8, 0, 0, 8, 9, 9, 3, 3, 8, 3, 9], device='cuda:0')\n",
            "tensor([0, 9, 2, 4, 7, 4, 3, 6, 3, 7, 4, 3, 6, 7, 7, 9], device='cuda:0')\n",
            "tensor([6, 0, 6, 2, 1, 1, 9, 0, 0, 5, 1, 8, 7, 8, 9, 2], device='cuda:0')\n",
            "tensor([1, 1, 5, 6, 1, 3, 2, 2, 7, 6, 4, 1, 7, 3, 4, 0], device='cuda:0')\n",
            "tensor([2, 4, 7, 4, 7, 5, 0, 8, 4, 4, 9, 6, 6, 8, 8, 5], device='cuda:0')\n",
            "tensor([2, 6, 8, 9, 2, 3, 4, 5, 3, 2, 0, 2, 9, 0, 3, 1], device='cuda:0')\n",
            "tensor([2, 8, 4, 9, 0, 9, 8, 6, 1, 1, 4, 3, 5, 9, 5, 9], device='cuda:0')\n",
            "tensor([3, 9, 5, 6, 7, 3, 4, 7, 8, 7, 6, 9, 5, 9, 5, 6], device='cuda:0')\n",
            "tensor([7, 6, 8, 1, 1, 9, 8, 2, 2, 1, 9, 1, 2, 6, 8, 8], device='cuda:0')\n",
            "tensor([6, 1, 1, 1, 5, 4, 4, 0, 4, 0, 9, 6, 9, 2, 6, 1], device='cuda:0')\n",
            "tensor([1, 2, 7, 1, 4, 4, 8, 2, 0, 8, 4, 2, 5, 6, 1, 2], device='cuda:0')\n",
            "tensor([7, 3, 6, 1, 0, 5, 2, 6, 7, 9, 1, 4, 0, 3, 0, 4], device='cuda:0')\n",
            "tensor([6, 5, 4, 9, 7, 3, 9, 7, 1, 1, 2, 9, 5, 9, 9, 7], device='cuda:0')\n",
            "tensor([2, 8, 8, 1, 2, 0, 7, 6, 0, 7, 4, 0, 0, 9, 3, 6], device='cuda:0')\n",
            "tensor([4, 4, 5, 0, 1, 7, 5, 3, 9, 1, 6, 5, 6, 7, 2, 2], device='cuda:0')\n",
            "tensor([9, 3, 4, 9, 2, 1, 4, 8, 4, 8, 3, 2, 7, 0, 7, 0], device='cuda:0')\n",
            "tensor([9, 1, 0, 4, 5, 5, 9, 8, 8, 0, 0, 6, 7, 6, 3, 7], device='cuda:0')\n",
            "tensor([3, 9, 7, 7, 4, 2, 5, 8, 1, 1, 1, 6, 4, 2, 3, 1], device='cuda:0')\n",
            "tensor([2, 6, 9, 7, 8, 1, 8, 0, 2, 5, 6, 8, 6, 4, 1, 3], device='cuda:0')\n",
            "tensor([2, 4, 9, 3, 0, 2, 1, 4, 5, 4, 1, 6, 0, 3, 7, 0], device='cuda:0')\n",
            "tensor([8, 2, 7, 7, 7, 8, 2, 0, 8, 6, 5, 3, 3, 3, 8, 6], device='cuda:0')\n",
            "tensor([1, 2, 7, 6, 0, 4, 1, 5, 0, 9, 9, 3, 8, 2, 6, 4], device='cuda:0')\n",
            "tensor([9, 9, 1, 8, 7, 9, 6, 1, 7, 6, 4, 4, 9, 8, 0, 7], device='cuda:0')\n",
            "tensor([1, 8, 6, 0, 8, 1, 3, 6, 1, 0, 6, 2, 3, 5, 3, 3], device='cuda:0')\n",
            "tensor([3, 1, 6, 6, 6, 9, 1, 7, 2, 6, 2, 4, 6, 6, 7, 6], device='cuda:0')\n",
            "tensor([6, 2, 4, 9, 5, 5, 4, 7, 2, 7, 4, 7, 9, 4, 1, 3], device='cuda:0')\n",
            "tensor([2, 9, 4, 9, 6, 1, 1, 2, 6, 7, 5, 6, 9, 8, 0, 7], device='cuda:0')\n",
            "tensor([9, 3, 7, 8, 9, 5, 2, 2, 1, 0, 2, 1, 7, 3, 3, 1], device='cuda:0')\n",
            "tensor([1, 6, 8, 7, 5, 1, 2, 1, 3, 2, 4, 0, 9, 2, 7, 0], device='cuda:0')\n",
            "tensor([2, 9, 2, 0, 8, 6, 0, 6, 7, 7, 6, 9, 8, 6, 8, 3], device='cuda:0')\n",
            "tensor([8, 4, 2, 3, 3, 9, 3, 6, 2, 6, 7, 8, 8, 5, 2, 0], device='cuda:0')\n",
            "tensor([2, 3, 2, 6, 3, 4, 1, 0, 1, 6, 7, 8, 2, 2, 2, 8], device='cuda:0')\n",
            "tensor([3, 9, 4, 9, 1, 9, 9, 9, 4, 7, 0, 7, 2, 6, 7, 8], device='cuda:0')\n",
            "tensor([4, 8, 6, 9, 3, 2, 7, 4, 7, 5, 8, 2, 8, 1, 6, 5], device='cuda:0')\n",
            "tensor([0, 8, 1, 2, 4, 2, 0, 0, 1, 5, 0, 0, 1, 1, 9, 7], device='cuda:0')\n",
            "tensor([2, 6, 5, 7, 6, 9, 6, 6, 2, 6, 0, 9, 1, 2, 8, 9], device='cuda:0')\n",
            "tensor([8, 2, 5, 3, 2, 9, 0, 9, 5, 0, 0, 0, 1, 1, 4, 4], device='cuda:0')\n",
            "tensor([2, 4, 9, 3, 3, 6, 0, 7, 7, 2, 0, 9, 9, 4, 2, 8], device='cuda:0')\n",
            "tensor([8, 0, 5, 8, 0, 7, 1, 8, 0, 9, 8, 2, 6, 2, 8, 3], device='cuda:0')\n",
            "tensor([9, 2, 5, 9, 3, 9, 7, 4, 8, 5, 7, 9, 0, 3, 1, 7], device='cuda:0')\n",
            "tensor([9, 1, 2, 3, 9, 2, 7, 0, 6, 8, 1, 6, 6, 1, 1, 7], device='cuda:0')\n",
            "tensor([7, 0, 0, 7, 6, 4, 2, 2, 3, 8, 8, 6, 7, 1, 4, 8], device='cuda:0')\n",
            "tensor([2, 6, 9, 9, 2, 2, 9, 9, 6, 9, 8, 9, 2, 1, 0, 6], device='cuda:0')\n",
            "tensor([6, 9, 0, 4, 3, 0, 1, 2, 1, 3, 6, 4, 3, 5, 3, 7], device='cuda:0')\n",
            "tensor([5, 7, 0, 1, 9, 7, 1, 4, 4, 0, 3, 7, 5, 3, 1, 5], device='cuda:0')\n",
            "tensor([7, 8, 0, 4, 1, 5, 6, 1, 2, 4, 3, 6, 5, 0, 9, 4], device='cuda:0')\n",
            "tensor([1, 3, 0, 3, 4, 1, 7, 0, 5, 9, 5, 1, 7, 1, 9, 2], device='cuda:0')\n",
            "tensor([3, 9, 9, 5, 5, 0, 2, 2, 2, 5, 1, 0, 3, 7, 3, 1], device='cuda:0')\n",
            "tensor([3, 8, 1, 0, 9, 6, 3, 0, 4, 2, 7, 0, 9, 7, 6, 0], device='cuda:0')\n",
            "tensor([8, 8, 1, 7, 7, 9, 2, 2, 6, 7, 5, 0, 0, 4, 8, 9], device='cuda:0')\n",
            "tensor([9, 2, 3, 1, 4, 4, 3, 5, 0, 7, 6, 4, 0, 2, 5, 2], device='cuda:0')\n",
            "tensor([5, 1, 6, 2, 9, 8, 9, 8, 2, 6, 8, 5, 1, 6, 2, 7], device='cuda:0')\n",
            "tensor([8, 1, 4, 3, 1, 0, 1, 5, 7, 5, 3, 3, 1, 1, 7, 9], device='cuda:0')\n",
            "tensor([1, 0, 2, 0, 3, 7, 0, 2, 4, 9, 4, 5, 2, 0, 4, 1], device='cuda:0')\n",
            "tensor([9, 6, 9, 9, 3, 4, 9, 8, 8, 4, 6, 7, 4, 1, 6, 3], device='cuda:0')\n",
            "tensor([2, 6, 0, 5, 4, 4, 2, 1, 6, 3, 0, 0, 7, 5, 3, 4], device='cuda:0')\n",
            "tensor([1, 7, 0, 6, 8, 3, 0, 7, 7, 7, 1, 7, 5, 7, 0, 3], device='cuda:0')\n",
            "tensor([6, 3, 9, 1, 6, 6, 8, 7, 2, 5, 7, 7, 0, 6, 7, 4], device='cuda:0')\n",
            "tensor([1, 9, 4, 7, 2, 6, 7, 8, 4, 2, 9, 8, 9, 2, 9, 3], device='cuda:0')\n",
            "tensor([4, 6, 7, 4, 9, 8, 1, 8, 0, 8, 0, 5, 1, 5, 2, 1], device='cuda:0')\n",
            "tensor([7, 8, 2, 5, 5, 9, 1, 3, 9, 9, 6, 4, 9, 6, 7, 2], device='cuda:0')\n",
            "tensor([7, 0, 9, 6, 5, 6, 7, 5, 8, 4, 5, 3, 2, 4, 0, 1], device='cuda:0')\n",
            "tensor([1, 4, 2, 0, 1, 8, 7, 0, 7, 6, 1, 0, 2, 9, 6, 5], device='cuda:0')\n",
            "tensor([6, 1, 2, 9, 8, 5, 4, 9, 1, 4, 5, 4, 7, 6, 0, 3], device='cuda:0')\n",
            "tensor([5, 2, 1, 8, 4, 9, 6, 0, 9, 3, 2, 4, 6, 3, 3, 3], device='cuda:0')\n",
            "tensor([3, 0, 9, 7, 2, 0, 4, 0, 3, 9, 9, 9, 3, 6, 7, 5], device='cuda:0')\n",
            "tensor([7, 9, 6, 9, 8, 7, 0, 6, 2, 8, 0, 7, 1, 8, 5, 0], device='cuda:0')\n",
            "tensor([6, 6, 0, 1, 2, 4, 2, 1, 0, 1, 4, 7, 7, 0, 9, 3], device='cuda:0')\n",
            "tensor([7, 3, 0, 3, 6, 2, 1, 5, 3, 9, 7, 8, 9, 2, 2, 8], device='cuda:0')\n",
            "tensor([7, 2, 9, 7, 2, 3, 1, 9, 8, 8, 6, 8, 0, 4, 1, 2], device='cuda:0')\n",
            "tensor([9, 0, 3, 2, 0, 2, 3, 0, 2, 2, 6, 4, 2, 5, 1, 1], device='cuda:0')\n",
            "tensor([9, 5, 4, 1, 4, 6, 9, 7, 0, 7, 6, 5, 2, 6, 2, 0], device='cuda:0')\n",
            "tensor([2, 0, 5, 7, 2, 0, 7, 7, 8, 3, 6, 9, 9, 1, 0, 9], device='cuda:0')\n",
            "tensor([2, 9, 9, 8, 3, 5, 6, 3, 2, 3, 2, 2, 9, 9, 4, 9], device='cuda:0')\n",
            "tensor([1, 5, 6, 6, 4, 2, 4, 1, 3, 7, 2, 0, 5, 8, 5, 2], device='cuda:0')\n",
            "tensor([7, 4, 9, 5, 4, 2, 7, 0, 9, 1, 1, 9, 2, 3, 7, 6], device='cuda:0')\n",
            "tensor([4, 7, 0, 6, 6, 3, 6, 5, 6, 1, 4, 3, 0, 1, 5, 4], device='cuda:0')\n",
            "tensor([2, 1, 7, 2, 2, 4, 3, 2, 1, 4, 9, 9, 7, 4, 4, 2], device='cuda:0')\n",
            "tensor([4, 6, 0, 5, 2, 6, 5, 6, 5, 3, 8, 2, 4, 7, 4, 5], device='cuda:0')\n",
            "tensor([2, 5, 4, 4, 7, 2, 2, 5, 6, 0, 3, 5, 0, 7, 1, 8], device='cuda:0')\n",
            "tensor([8, 1, 0, 5, 7, 7, 0, 2, 4, 4, 9, 3, 1, 5, 8, 1], device='cuda:0')\n",
            "tensor([2, 1, 6, 6, 2, 2, 3, 7, 0, 6, 4, 3, 9, 9, 5, 1], device='cuda:0')\n",
            "tensor([0, 8, 4, 8, 2, 5, 1, 9, 6, 4, 0, 0, 1, 4, 4, 0], device='cuda:0')\n",
            "tensor([2, 4, 1, 4, 5, 7, 3, 8, 1, 4, 7, 2, 9, 7, 6, 8], device='cuda:0')\n",
            "tensor([4, 8, 9, 5, 3, 0, 5, 6, 2, 9, 2, 6, 5, 0, 9, 3], device='cuda:0')\n",
            "tensor([6, 7, 6, 3, 4, 7, 1, 1, 2, 9, 3, 6, 0, 9, 2, 3], device='cuda:0')\n",
            "tensor([1, 5, 7, 0, 1, 2, 0, 5, 8, 4, 9, 2, 5, 8, 2, 3], device='cuda:0')\n",
            "tensor([6, 8, 4, 7, 5, 2, 7, 0, 7, 7, 5, 4, 5, 7, 9, 3], device='cuda:0')\n",
            "tensor([6, 3, 3, 7, 3, 5, 0, 6, 1, 0, 9, 4, 5, 5, 1, 4], device='cuda:0')\n",
            "tensor([5, 4, 7, 2, 9, 9, 5, 2, 8, 2, 9, 0, 5, 4, 8, 3], device='cuda:0')\n",
            "tensor([1, 9, 6, 5, 7, 8, 1, 0, 1, 6, 5, 7, 6, 5, 7, 5], device='cuda:0')\n",
            "tensor([8, 3, 7, 6, 9, 2, 2, 3, 1, 7, 6, 1, 7, 0, 8, 3], device='cuda:0')\n",
            "tensor([2, 2, 9, 0, 8, 9, 8, 0, 4, 0, 7, 0, 3, 2, 3, 5], device='cuda:0')\n",
            "tensor([8, 5, 9, 0, 3, 0, 1, 5, 8, 5, 5, 8, 9, 5, 5, 3], device='cuda:0')\n",
            "tensor([8, 7, 7, 7, 0, 1, 6, 9, 2, 0, 3, 8, 2, 4, 5, 2], device='cuda:0')\n",
            "tensor([8, 9, 4, 7, 7, 9, 3, 8, 9, 4, 9, 7, 7, 6, 9, 1], device='cuda:0')\n",
            "tensor([3, 1, 2, 3, 4, 8, 1, 2, 6, 7, 2, 6, 9, 3, 1, 7], device='cuda:0')\n",
            "tensor([8, 8, 2, 5, 8, 6, 1, 3, 7, 1, 5, 9, 9, 3, 8, 2], device='cuda:0')\n",
            "tensor([0, 9, 2, 8, 2, 9, 0, 9, 7, 2, 1, 9, 5, 2, 1, 2], device='cuda:0')\n",
            "tensor([0, 5, 8, 1, 0, 2, 3, 7, 1, 2, 4, 4, 6, 9, 0, 1], device='cuda:0')\n",
            "tensor([3, 9, 4, 4, 3, 3, 0, 5, 2, 9, 3, 4, 5, 0, 6, 9], device='cuda:0')\n",
            "tensor([0, 1, 0, 4, 9, 9, 4, 1, 8, 0, 8, 9, 3, 0, 3, 8], device='cuda:0')\n",
            "tensor([0, 0, 8, 6, 6, 3, 9, 0, 7, 0, 8, 6, 1, 5, 6, 4], device='cuda:0')\n",
            "tensor([1, 6, 6, 9, 7, 1, 5, 4, 2, 9, 2, 0, 1, 3, 3, 4], device='cuda:0')\n",
            "tensor([8, 6, 7, 7, 7, 3, 7, 6, 5, 2, 7, 9, 3, 8, 9, 5], device='cuda:0')\n",
            "tensor([0, 4, 1, 4, 7, 3, 2, 9, 8, 4, 0, 2, 5, 9, 0, 6], device='cuda:0')\n",
            "tensor([0, 0, 5, 2, 2, 4, 2, 5, 8, 3, 8, 3, 1, 1, 2, 6], device='cuda:0')\n",
            "tensor([3, 3, 0, 9, 0, 7, 1, 6, 9, 4, 9, 2, 0, 9, 4, 3], device='cuda:0')\n",
            "tensor([6, 0, 6, 3, 8, 5, 0, 4, 5, 9, 4, 3, 3, 0, 8, 3], device='cuda:0')\n",
            "tensor([2, 5, 5, 6, 0, 2, 3, 8, 2, 3, 3, 7, 8, 3, 7, 7], device='cuda:0')\n",
            "tensor([5, 7, 9, 2, 3, 9, 0, 8, 1, 0, 8, 8, 3, 7, 2, 0], device='cuda:0')\n",
            "tensor([3, 6, 3, 7, 9, 5, 4, 5, 9, 1, 5, 9, 4, 6, 2, 7], device='cuda:0')\n",
            "tensor([6, 2, 8, 6, 9, 5, 6, 0, 1, 3, 7, 4, 0, 1, 9, 4], device='cuda:0')\n",
            "tensor([7, 7, 9, 6, 4, 8, 0, 1, 9, 1, 4, 1, 0, 4, 9, 1], device='cuda:0')\n",
            "tensor([9, 4, 9, 5, 2, 4, 6, 2, 7, 7, 3, 8, 3, 3, 6, 0], device='cuda:0')\n",
            "tensor([7, 5, 7, 9, 6, 4, 8, 2, 6, 8, 7, 9, 2, 1, 9, 4], device='cuda:0')\n",
            "tensor([5, 3, 8, 6, 0, 3, 7, 6, 9, 2, 3, 8, 2, 9, 1, 8], device='cuda:0')\n",
            "tensor([2, 0, 4, 5, 5, 3, 1, 1, 5, 7, 4, 0, 8, 7, 6, 7], device='cuda:0')\n",
            "tensor([9, 7, 1, 0, 6, 3, 1, 0, 2, 2, 4, 7, 7, 7, 7, 3], device='cuda:0')\n",
            "tensor([7, 6, 9, 2, 2, 1, 2, 7, 8, 0, 6, 2, 7, 7, 9, 5], device='cuda:0')\n",
            "tensor([1, 1, 2, 4, 7, 0, 5, 7, 7, 6, 2, 8, 7, 9, 6, 7], device='cuda:0')\n",
            "tensor([0, 2, 8, 6, 2, 8, 8, 9, 3, 5, 3, 7, 4, 2, 0, 8], device='cuda:0')\n",
            "tensor([8, 6, 1, 4, 0, 4, 3, 0, 4, 9, 2, 5, 3, 2, 2, 3], device='cuda:0')\n",
            "tensor([0, 7, 0, 2, 4, 1, 5, 0, 9, 1, 6, 9, 2, 9, 4, 5], device='cuda:0')\n",
            "tensor([3, 4, 8, 1, 3, 2, 2, 4, 1, 2, 3, 0, 8, 2, 7, 8], device='cuda:0')\n",
            "tensor([2, 9, 6, 3, 4, 9, 7, 4, 2, 8, 8, 3, 6, 7, 7, 5], device='cuda:0')\n",
            "tensor([0, 1, 7, 7, 8, 0, 6, 5, 0, 0, 8, 7, 1, 5, 4, 4], device='cuda:0')\n",
            "tensor([9, 1, 9, 7, 6, 2, 3, 2, 2, 5, 8, 6, 7, 9, 4, 7], device='cuda:0')\n",
            "tensor([4, 9, 7, 0, 9, 7, 2, 6, 3, 0, 4, 9, 0, 8, 5, 2], device='cuda:0')\n",
            "tensor([8, 3, 7, 6, 4, 3, 1, 1, 1, 8, 2, 6, 1, 1, 5, 2], device='cuda:0')\n",
            "tensor([0, 2, 2, 0, 4, 7, 2, 6, 6, 6, 9, 9, 2, 4, 8, 3], device='cuda:0')\n",
            "tensor([3, 6, 5, 7, 6, 3, 7, 0, 8, 3, 6, 3, 9, 4, 7, 9], device='cuda:0')\n",
            "tensor([2, 9, 7, 1, 1, 9, 8, 2, 4, 0, 9, 2, 6, 9, 2, 1], device='cuda:0')\n",
            "tensor([3, 7, 1, 2, 8, 8, 7, 7, 2, 8, 1, 4, 8, 6, 7, 1], device='cuda:0')\n",
            "tensor([7, 4, 2, 7, 0, 8, 6, 7, 9, 2, 8, 9, 6, 7, 2, 9], device='cuda:0')\n",
            "tensor([7, 3, 7, 6, 4, 2, 3, 6, 4, 4, 0, 1, 9, 0, 4, 3], device='cuda:0')\n",
            "tensor([8, 8, 9, 4, 5, 6, 0, 9, 2, 4, 2, 3, 8, 1, 0, 3], device='cuda:0')\n",
            "tensor([9, 7, 8, 8, 8, 0, 2, 9, 6, 3, 3, 1, 4, 9, 9, 0], device='cuda:0')\n",
            "tensor([7, 6, 8, 4, 5, 8, 1, 4, 0, 1, 3, 0, 9, 4, 8, 9], device='cuda:0')\n",
            "tensor([6, 1, 7, 0, 5, 6, 2, 5, 6, 5, 6, 4, 7, 5, 3, 9], device='cuda:0')\n",
            "tensor([6, 3, 1, 0, 9, 3, 7, 1, 3, 3, 1, 7, 1, 3, 7, 3], device='cuda:0')\n",
            "tensor([0, 8, 0, 1, 4, 0, 4, 7, 1, 1, 9, 1, 5, 6, 4, 7], device='cuda:0')\n",
            "tensor([0, 3, 6, 9, 0, 3, 8, 9, 3, 5, 9, 4, 1, 7, 1, 4], device='cuda:0')\n",
            "tensor([1, 3, 9, 7, 6, 0, 9, 2, 1, 0, 1, 7, 4, 0, 2, 3], device='cuda:0')\n",
            "tensor([7, 2, 3, 2, 1, 8, 2, 8, 8, 6, 2, 9, 5, 7, 1, 6], device='cuda:0')\n",
            "tensor([4, 7, 7, 0, 1, 0, 2, 4, 1, 3, 3, 5, 0, 5, 7, 1], device='cuda:0')\n",
            "tensor([3, 0, 4, 5, 1, 4, 1, 0, 0, 5, 8, 6, 8, 3, 7, 2], device='cuda:0')\n",
            "tensor([5, 2, 9, 1, 1, 0, 8, 7, 0, 2, 7, 6, 6, 8, 5, 4], device='cuda:0')\n",
            "tensor([9, 5, 3, 1, 2, 6, 1, 4, 7, 8, 0, 2, 1, 2, 7, 4], device='cuda:0')\n",
            "tensor([1, 4, 2, 5, 1, 0, 4, 9, 6, 6, 7, 0, 8, 0, 2, 8], device='cuda:0')\n",
            "tensor([0, 7, 2, 4, 1, 5, 2, 9, 4, 2, 7, 4, 7, 1, 9, 6], device='cuda:0')\n",
            "tensor([4, 6, 0, 3, 6, 1, 7, 7, 1, 2, 9, 2, 9, 0, 3, 3], device='cuda:0')\n",
            "tensor([4, 1, 6, 2, 4, 9, 1, 1, 1, 9, 7, 7, 4, 9, 9, 9], device='cuda:0')\n",
            "tensor([1, 6, 9, 8, 2, 3, 4, 8, 0, 1, 1, 4, 4, 4, 7, 0], device='cuda:0')\n",
            "tensor([6, 4, 5, 3, 4, 6, 3, 7, 3, 6, 9, 7, 1, 7, 5, 7], device='cuda:0')\n",
            "tensor([6, 0, 7, 3, 5, 1, 2, 0, 6, 6, 5, 9, 8, 1, 5, 9], device='cuda:0')\n",
            "tensor([7, 5, 2, 9, 4, 5, 8, 7, 2, 0, 1, 1, 4, 7, 5, 4], device='cuda:0')\n",
            "tensor([3, 9, 6, 8, 6, 9, 3, 8, 9, 3, 3, 2, 6, 4, 6, 6], device='cuda:0')\n",
            "tensor([3, 9, 5, 7, 0, 1, 1, 6, 9, 7, 1, 6, 6, 2, 5, 9], device='cuda:0')\n",
            "tensor([3, 4, 8, 1, 7, 2, 1, 4, 1, 2, 6, 2, 2, 0, 1, 2], device='cuda:0')\n",
            "tensor([2, 3, 5, 8, 5, 5, 7, 0, 9, 8, 7, 3, 9, 9, 4, 0], device='cuda:0')\n",
            "tensor([2, 2, 9, 1, 7, 2, 1, 6, 9, 0, 8, 0, 2, 3, 7, 7], device='cuda:0')\n",
            "tensor([2, 2, 4, 7, 3, 9, 4, 8, 0, 1, 9, 9, 2, 1, 4, 3], device='cuda:0')\n",
            "tensor([5, 7, 0, 2, 2, 3, 4, 3, 9, 0, 2, 9, 8, 7, 8, 5], device='cuda:0')\n",
            "tensor([8, 1, 2, 4, 3, 3, 7, 9, 8, 2, 3, 0, 3, 7, 2, 7], device='cuda:0')\n",
            "tensor([7, 8, 1, 9, 0, 7, 3, 3, 8, 2, 3, 2, 1, 0, 9, 1], device='cuda:0')\n",
            "tensor([6, 6, 0, 3, 3, 6, 8, 0, 7, 8, 8, 1, 8, 7, 1, 8], device='cuda:0')\n",
            "tensor([1, 5, 7, 2, 6, 4, 3, 8, 9, 2, 1, 9, 8, 5, 0, 2], device='cuda:0')\n",
            "tensor([3, 9, 7, 1, 1, 4, 1, 2, 8, 1, 9, 7, 9, 1, 7, 6], device='cuda:0')\n",
            "tensor([2, 9, 7, 8, 1, 3, 7, 3, 8, 5, 8, 0, 0, 6, 7, 2], device='cuda:0')\n",
            "tensor([1, 1, 6, 3, 7, 7, 9, 6, 4, 7, 1, 5, 3, 9, 6, 5], device='cuda:0')\n",
            "tensor([0, 9, 2, 9, 5, 4, 0, 3, 8, 7, 7, 1, 1, 4, 0, 0], device='cuda:0')\n"
          ]
        },
        {
          "output_type": "error",
          "ename": "KeyboardInterrupt",
          "evalue": "ignored",
          "traceback": [
            "\u001b[0;31m---------------------------------------------------------------------------\u001b[0m",
            "\u001b[0;31mKeyboardInterrupt\u001b[0m                         Traceback (most recent call last)",
            "\u001b[0;32m<ipython-input-24-b9abb08f6462>\u001b[0m in \u001b[0;36m<module>\u001b[0;34m\u001b[0m\n\u001b[0;32m----> 1\u001b[0;31m \u001b[0;32mfor\u001b[0m \u001b[0mi\u001b[0m\u001b[0;34m,\u001b[0m \u001b[0;34m(\u001b[0m\u001b[0minputs\u001b[0m\u001b[0;34m,\u001b[0m \u001b[0mlabels\u001b[0m\u001b[0;34m)\u001b[0m \u001b[0;32min\u001b[0m \u001b[0menumerate\u001b[0m\u001b[0;34m(\u001b[0m\u001b[0mtqdm\u001b[0m\u001b[0;34m(\u001b[0m\u001b[0mtrain_loader\u001b[0m\u001b[0;34m)\u001b[0m\u001b[0;34m)\u001b[0m\u001b[0;34m:\u001b[0m\u001b[0;34m\u001b[0m\u001b[0;34m\u001b[0m\u001b[0m\n\u001b[0m\u001b[1;32m      2\u001b[0m     \u001b[0minputs\u001b[0m \u001b[0;34m=\u001b[0m \u001b[0minputs\u001b[0m\u001b[0;34m.\u001b[0m\u001b[0mto\u001b[0m\u001b[0;34m(\u001b[0m\u001b[0mdevice\u001b[0m\u001b[0;34m)\u001b[0m\u001b[0;34m\u001b[0m\u001b[0;34m\u001b[0m\u001b[0m\n\u001b[1;32m      3\u001b[0m     \u001b[0mlabels\u001b[0m \u001b[0;34m=\u001b[0m \u001b[0mlabels\u001b[0m\u001b[0;34m.\u001b[0m\u001b[0mto\u001b[0m\u001b[0;34m(\u001b[0m\u001b[0mdevice\u001b[0m\u001b[0;34m)\u001b[0m\u001b[0;34m\u001b[0m\u001b[0;34m\u001b[0m\u001b[0m\n\u001b[1;32m      4\u001b[0m     \u001b[0mprint\u001b[0m\u001b[0;34m(\u001b[0m\u001b[0mlabels\u001b[0m\u001b[0;34m)\u001b[0m\u001b[0;34m\u001b[0m\u001b[0;34m\u001b[0m\u001b[0m\n",
            "\u001b[0;32m/usr/local/lib/python3.7/dist-packages/tqdm/notebook.py\u001b[0m in \u001b[0;36m__iter__\u001b[0;34m(self)\u001b[0m\n\u001b[1;32m    257\u001b[0m         \u001b[0;32mtry\u001b[0m\u001b[0;34m:\u001b[0m\u001b[0;34m\u001b[0m\u001b[0;34m\u001b[0m\u001b[0m\n\u001b[1;32m    258\u001b[0m             \u001b[0mit\u001b[0m \u001b[0;34m=\u001b[0m \u001b[0msuper\u001b[0m\u001b[0;34m(\u001b[0m\u001b[0mtqdm_notebook\u001b[0m\u001b[0;34m,\u001b[0m \u001b[0mself\u001b[0m\u001b[0;34m)\u001b[0m\u001b[0;34m.\u001b[0m\u001b[0m__iter__\u001b[0m\u001b[0;34m(\u001b[0m\u001b[0;34m)\u001b[0m\u001b[0;34m\u001b[0m\u001b[0;34m\u001b[0m\u001b[0m\n\u001b[0;32m--> 259\u001b[0;31m             \u001b[0;32mfor\u001b[0m \u001b[0mobj\u001b[0m \u001b[0;32min\u001b[0m \u001b[0mit\u001b[0m\u001b[0;34m:\u001b[0m\u001b[0;34m\u001b[0m\u001b[0;34m\u001b[0m\u001b[0m\n\u001b[0m\u001b[1;32m    260\u001b[0m                 \u001b[0;31m# return super(tqdm...) will not catch exception\u001b[0m\u001b[0;34m\u001b[0m\u001b[0;34m\u001b[0m\u001b[0;34m\u001b[0m\u001b[0m\n\u001b[1;32m    261\u001b[0m                 \u001b[0;32myield\u001b[0m \u001b[0mobj\u001b[0m\u001b[0;34m\u001b[0m\u001b[0;34m\u001b[0m\u001b[0m\n",
            "\u001b[0;32m/usr/local/lib/python3.7/dist-packages/tqdm/std.py\u001b[0m in \u001b[0;36m__iter__\u001b[0;34m(self)\u001b[0m\n\u001b[1;32m   1193\u001b[0m \u001b[0;34m\u001b[0m\u001b[0m\n\u001b[1;32m   1194\u001b[0m         \u001b[0;32mtry\u001b[0m\u001b[0;34m:\u001b[0m\u001b[0;34m\u001b[0m\u001b[0;34m\u001b[0m\u001b[0m\n\u001b[0;32m-> 1195\u001b[0;31m             \u001b[0;32mfor\u001b[0m \u001b[0mobj\u001b[0m \u001b[0;32min\u001b[0m \u001b[0miterable\u001b[0m\u001b[0;34m:\u001b[0m\u001b[0;34m\u001b[0m\u001b[0;34m\u001b[0m\u001b[0m\n\u001b[0m\u001b[1;32m   1196\u001b[0m                 \u001b[0;32myield\u001b[0m \u001b[0mobj\u001b[0m\u001b[0;34m\u001b[0m\u001b[0;34m\u001b[0m\u001b[0m\n\u001b[1;32m   1197\u001b[0m                 \u001b[0;31m# Update and possibly print the progressbar.\u001b[0m\u001b[0;34m\u001b[0m\u001b[0;34m\u001b[0m\u001b[0;34m\u001b[0m\u001b[0m\n",
            "\u001b[0;32m/usr/local/lib/python3.7/dist-packages/torch/utils/data/dataloader.py\u001b[0m in \u001b[0;36m__next__\u001b[0;34m(self)\u001b[0m\n\u001b[1;32m    679\u001b[0m                 \u001b[0;31m# TODO(https://github.com/pytorch/pytorch/issues/76750)\u001b[0m\u001b[0;34m\u001b[0m\u001b[0;34m\u001b[0m\u001b[0;34m\u001b[0m\u001b[0m\n\u001b[1;32m    680\u001b[0m                 \u001b[0mself\u001b[0m\u001b[0;34m.\u001b[0m\u001b[0m_reset\u001b[0m\u001b[0;34m(\u001b[0m\u001b[0;34m)\u001b[0m  \u001b[0;31m# type: ignore[call-arg]\u001b[0m\u001b[0;34m\u001b[0m\u001b[0;34m\u001b[0m\u001b[0m\n\u001b[0;32m--> 681\u001b[0;31m             \u001b[0mdata\u001b[0m \u001b[0;34m=\u001b[0m \u001b[0mself\u001b[0m\u001b[0;34m.\u001b[0m\u001b[0m_next_data\u001b[0m\u001b[0;34m(\u001b[0m\u001b[0;34m)\u001b[0m\u001b[0;34m\u001b[0m\u001b[0;34m\u001b[0m\u001b[0m\n\u001b[0m\u001b[1;32m    682\u001b[0m             \u001b[0mself\u001b[0m\u001b[0;34m.\u001b[0m\u001b[0m_num_yielded\u001b[0m \u001b[0;34m+=\u001b[0m \u001b[0;36m1\u001b[0m\u001b[0;34m\u001b[0m\u001b[0;34m\u001b[0m\u001b[0m\n\u001b[1;32m    683\u001b[0m             \u001b[0;32mif\u001b[0m \u001b[0mself\u001b[0m\u001b[0;34m.\u001b[0m\u001b[0m_dataset_kind\u001b[0m \u001b[0;34m==\u001b[0m \u001b[0m_DatasetKind\u001b[0m\u001b[0;34m.\u001b[0m\u001b[0mIterable\u001b[0m \u001b[0;32mand\u001b[0m\u001b[0;31m \u001b[0m\u001b[0;31m\\\u001b[0m\u001b[0;34m\u001b[0m\u001b[0;34m\u001b[0m\u001b[0m\n",
            "\u001b[0;32m/usr/local/lib/python3.7/dist-packages/torch/utils/data/dataloader.py\u001b[0m in \u001b[0;36m_next_data\u001b[0;34m(self)\u001b[0m\n\u001b[1;32m   1357\u001b[0m \u001b[0;34m\u001b[0m\u001b[0m\n\u001b[1;32m   1358\u001b[0m             \u001b[0;32massert\u001b[0m \u001b[0;32mnot\u001b[0m \u001b[0mself\u001b[0m\u001b[0;34m.\u001b[0m\u001b[0m_shutdown\u001b[0m \u001b[0;32mand\u001b[0m \u001b[0mself\u001b[0m\u001b[0;34m.\u001b[0m\u001b[0m_tasks_outstanding\u001b[0m \u001b[0;34m>\u001b[0m \u001b[0;36m0\u001b[0m\u001b[0;34m\u001b[0m\u001b[0;34m\u001b[0m\u001b[0m\n\u001b[0;32m-> 1359\u001b[0;31m             \u001b[0midx\u001b[0m\u001b[0;34m,\u001b[0m \u001b[0mdata\u001b[0m \u001b[0;34m=\u001b[0m \u001b[0mself\u001b[0m\u001b[0;34m.\u001b[0m\u001b[0m_get_data\u001b[0m\u001b[0;34m(\u001b[0m\u001b[0;34m)\u001b[0m\u001b[0;34m\u001b[0m\u001b[0;34m\u001b[0m\u001b[0m\n\u001b[0m\u001b[1;32m   1360\u001b[0m             \u001b[0mself\u001b[0m\u001b[0;34m.\u001b[0m\u001b[0m_tasks_outstanding\u001b[0m \u001b[0;34m-=\u001b[0m \u001b[0;36m1\u001b[0m\u001b[0;34m\u001b[0m\u001b[0;34m\u001b[0m\u001b[0m\n\u001b[1;32m   1361\u001b[0m             \u001b[0;32mif\u001b[0m \u001b[0mself\u001b[0m\u001b[0;34m.\u001b[0m\u001b[0m_dataset_kind\u001b[0m \u001b[0;34m==\u001b[0m \u001b[0m_DatasetKind\u001b[0m\u001b[0;34m.\u001b[0m\u001b[0mIterable\u001b[0m\u001b[0;34m:\u001b[0m\u001b[0;34m\u001b[0m\u001b[0;34m\u001b[0m\u001b[0m\n",
            "\u001b[0;32m/usr/local/lib/python3.7/dist-packages/torch/utils/data/dataloader.py\u001b[0m in \u001b[0;36m_get_data\u001b[0;34m(self)\u001b[0m\n\u001b[1;32m   1323\u001b[0m         \u001b[0;32melse\u001b[0m\u001b[0;34m:\u001b[0m\u001b[0;34m\u001b[0m\u001b[0;34m\u001b[0m\u001b[0m\n\u001b[1;32m   1324\u001b[0m             \u001b[0;32mwhile\u001b[0m \u001b[0;32mTrue\u001b[0m\u001b[0;34m:\u001b[0m\u001b[0;34m\u001b[0m\u001b[0;34m\u001b[0m\u001b[0m\n\u001b[0;32m-> 1325\u001b[0;31m                 \u001b[0msuccess\u001b[0m\u001b[0;34m,\u001b[0m \u001b[0mdata\u001b[0m \u001b[0;34m=\u001b[0m \u001b[0mself\u001b[0m\u001b[0;34m.\u001b[0m\u001b[0m_try_get_data\u001b[0m\u001b[0;34m(\u001b[0m\u001b[0;34m)\u001b[0m\u001b[0;34m\u001b[0m\u001b[0;34m\u001b[0m\u001b[0m\n\u001b[0m\u001b[1;32m   1326\u001b[0m                 \u001b[0;32mif\u001b[0m \u001b[0msuccess\u001b[0m\u001b[0;34m:\u001b[0m\u001b[0;34m\u001b[0m\u001b[0;34m\u001b[0m\u001b[0m\n\u001b[1;32m   1327\u001b[0m                     \u001b[0;32mreturn\u001b[0m \u001b[0mdata\u001b[0m\u001b[0;34m\u001b[0m\u001b[0;34m\u001b[0m\u001b[0m\n",
            "\u001b[0;32m/usr/local/lib/python3.7/dist-packages/torch/utils/data/dataloader.py\u001b[0m in \u001b[0;36m_try_get_data\u001b[0;34m(self, timeout)\u001b[0m\n\u001b[1;32m   1161\u001b[0m         \u001b[0;31m#   (bool: whether successfully get data, any: data if successful else None)\u001b[0m\u001b[0;34m\u001b[0m\u001b[0;34m\u001b[0m\u001b[0;34m\u001b[0m\u001b[0m\n\u001b[1;32m   1162\u001b[0m         \u001b[0;32mtry\u001b[0m\u001b[0;34m:\u001b[0m\u001b[0;34m\u001b[0m\u001b[0;34m\u001b[0m\u001b[0m\n\u001b[0;32m-> 1163\u001b[0;31m             \u001b[0mdata\u001b[0m \u001b[0;34m=\u001b[0m \u001b[0mself\u001b[0m\u001b[0;34m.\u001b[0m\u001b[0m_data_queue\u001b[0m\u001b[0;34m.\u001b[0m\u001b[0mget\u001b[0m\u001b[0;34m(\u001b[0m\u001b[0mtimeout\u001b[0m\u001b[0;34m=\u001b[0m\u001b[0mtimeout\u001b[0m\u001b[0;34m)\u001b[0m\u001b[0;34m\u001b[0m\u001b[0;34m\u001b[0m\u001b[0m\n\u001b[0m\u001b[1;32m   1164\u001b[0m             \u001b[0;32mreturn\u001b[0m \u001b[0;34m(\u001b[0m\u001b[0;32mTrue\u001b[0m\u001b[0;34m,\u001b[0m \u001b[0mdata\u001b[0m\u001b[0;34m)\u001b[0m\u001b[0;34m\u001b[0m\u001b[0;34m\u001b[0m\u001b[0m\n\u001b[1;32m   1165\u001b[0m         \u001b[0;32mexcept\u001b[0m \u001b[0mException\u001b[0m \u001b[0;32mas\u001b[0m \u001b[0me\u001b[0m\u001b[0;34m:\u001b[0m\u001b[0;34m\u001b[0m\u001b[0;34m\u001b[0m\u001b[0m\n",
            "\u001b[0;32m/usr/lib/python3.7/multiprocessing/queues.py\u001b[0m in \u001b[0;36mget\u001b[0;34m(self, block, timeout)\u001b[0m\n\u001b[1;32m    102\u001b[0m                 \u001b[0;32mif\u001b[0m \u001b[0mblock\u001b[0m\u001b[0;34m:\u001b[0m\u001b[0;34m\u001b[0m\u001b[0;34m\u001b[0m\u001b[0m\n\u001b[1;32m    103\u001b[0m                     \u001b[0mtimeout\u001b[0m \u001b[0;34m=\u001b[0m \u001b[0mdeadline\u001b[0m \u001b[0;34m-\u001b[0m \u001b[0mtime\u001b[0m\u001b[0;34m.\u001b[0m\u001b[0mmonotonic\u001b[0m\u001b[0;34m(\u001b[0m\u001b[0;34m)\u001b[0m\u001b[0;34m\u001b[0m\u001b[0;34m\u001b[0m\u001b[0m\n\u001b[0;32m--> 104\u001b[0;31m                     \u001b[0;32mif\u001b[0m \u001b[0;32mnot\u001b[0m \u001b[0mself\u001b[0m\u001b[0;34m.\u001b[0m\u001b[0m_poll\u001b[0m\u001b[0;34m(\u001b[0m\u001b[0mtimeout\u001b[0m\u001b[0;34m)\u001b[0m\u001b[0;34m:\u001b[0m\u001b[0;34m\u001b[0m\u001b[0;34m\u001b[0m\u001b[0m\n\u001b[0m\u001b[1;32m    105\u001b[0m                         \u001b[0;32mraise\u001b[0m \u001b[0mEmpty\u001b[0m\u001b[0;34m\u001b[0m\u001b[0;34m\u001b[0m\u001b[0m\n\u001b[1;32m    106\u001b[0m                 \u001b[0;32melif\u001b[0m \u001b[0;32mnot\u001b[0m \u001b[0mself\u001b[0m\u001b[0;34m.\u001b[0m\u001b[0m_poll\u001b[0m\u001b[0;34m(\u001b[0m\u001b[0;34m)\u001b[0m\u001b[0;34m:\u001b[0m\u001b[0;34m\u001b[0m\u001b[0;34m\u001b[0m\u001b[0m\n",
            "\u001b[0;32m/usr/lib/python3.7/multiprocessing/connection.py\u001b[0m in \u001b[0;36mpoll\u001b[0;34m(self, timeout)\u001b[0m\n\u001b[1;32m    255\u001b[0m         \u001b[0mself\u001b[0m\u001b[0;34m.\u001b[0m\u001b[0m_check_closed\u001b[0m\u001b[0;34m(\u001b[0m\u001b[0;34m)\u001b[0m\u001b[0;34m\u001b[0m\u001b[0;34m\u001b[0m\u001b[0m\n\u001b[1;32m    256\u001b[0m         \u001b[0mself\u001b[0m\u001b[0;34m.\u001b[0m\u001b[0m_check_readable\u001b[0m\u001b[0;34m(\u001b[0m\u001b[0;34m)\u001b[0m\u001b[0;34m\u001b[0m\u001b[0;34m\u001b[0m\u001b[0m\n\u001b[0;32m--> 257\u001b[0;31m         \u001b[0;32mreturn\u001b[0m \u001b[0mself\u001b[0m\u001b[0;34m.\u001b[0m\u001b[0m_poll\u001b[0m\u001b[0;34m(\u001b[0m\u001b[0mtimeout\u001b[0m\u001b[0;34m)\u001b[0m\u001b[0;34m\u001b[0m\u001b[0;34m\u001b[0m\u001b[0m\n\u001b[0m\u001b[1;32m    258\u001b[0m \u001b[0;34m\u001b[0m\u001b[0m\n\u001b[1;32m    259\u001b[0m     \u001b[0;32mdef\u001b[0m \u001b[0m__enter__\u001b[0m\u001b[0;34m(\u001b[0m\u001b[0mself\u001b[0m\u001b[0;34m)\u001b[0m\u001b[0;34m:\u001b[0m\u001b[0;34m\u001b[0m\u001b[0;34m\u001b[0m\u001b[0m\n",
            "\u001b[0;32m/usr/lib/python3.7/multiprocessing/connection.py\u001b[0m in \u001b[0;36m_poll\u001b[0;34m(self, timeout)\u001b[0m\n\u001b[1;32m    412\u001b[0m \u001b[0;34m\u001b[0m\u001b[0m\n\u001b[1;32m    413\u001b[0m     \u001b[0;32mdef\u001b[0m \u001b[0m_poll\u001b[0m\u001b[0;34m(\u001b[0m\u001b[0mself\u001b[0m\u001b[0;34m,\u001b[0m \u001b[0mtimeout\u001b[0m\u001b[0;34m)\u001b[0m\u001b[0;34m:\u001b[0m\u001b[0;34m\u001b[0m\u001b[0;34m\u001b[0m\u001b[0m\n\u001b[0;32m--> 414\u001b[0;31m         \u001b[0mr\u001b[0m \u001b[0;34m=\u001b[0m \u001b[0mwait\u001b[0m\u001b[0;34m(\u001b[0m\u001b[0;34m[\u001b[0m\u001b[0mself\u001b[0m\u001b[0;34m]\u001b[0m\u001b[0;34m,\u001b[0m \u001b[0mtimeout\u001b[0m\u001b[0;34m)\u001b[0m\u001b[0;34m\u001b[0m\u001b[0;34m\u001b[0m\u001b[0m\n\u001b[0m\u001b[1;32m    415\u001b[0m         \u001b[0;32mreturn\u001b[0m \u001b[0mbool\u001b[0m\u001b[0;34m(\u001b[0m\u001b[0mr\u001b[0m\u001b[0;34m)\u001b[0m\u001b[0;34m\u001b[0m\u001b[0;34m\u001b[0m\u001b[0m\n\u001b[1;32m    416\u001b[0m \u001b[0;34m\u001b[0m\u001b[0m\n",
            "\u001b[0;32m/usr/lib/python3.7/multiprocessing/connection.py\u001b[0m in \u001b[0;36mwait\u001b[0;34m(object_list, timeout)\u001b[0m\n\u001b[1;32m    919\u001b[0m \u001b[0;34m\u001b[0m\u001b[0m\n\u001b[1;32m    920\u001b[0m             \u001b[0;32mwhile\u001b[0m \u001b[0;32mTrue\u001b[0m\u001b[0;34m:\u001b[0m\u001b[0;34m\u001b[0m\u001b[0;34m\u001b[0m\u001b[0m\n\u001b[0;32m--> 921\u001b[0;31m                 \u001b[0mready\u001b[0m \u001b[0;34m=\u001b[0m \u001b[0mselector\u001b[0m\u001b[0;34m.\u001b[0m\u001b[0mselect\u001b[0m\u001b[0;34m(\u001b[0m\u001b[0mtimeout\u001b[0m\u001b[0;34m)\u001b[0m\u001b[0;34m\u001b[0m\u001b[0;34m\u001b[0m\u001b[0m\n\u001b[0m\u001b[1;32m    922\u001b[0m                 \u001b[0;32mif\u001b[0m \u001b[0mready\u001b[0m\u001b[0;34m:\u001b[0m\u001b[0;34m\u001b[0m\u001b[0;34m\u001b[0m\u001b[0m\n\u001b[1;32m    923\u001b[0m                     \u001b[0;32mreturn\u001b[0m \u001b[0;34m[\u001b[0m\u001b[0mkey\u001b[0m\u001b[0;34m.\u001b[0m\u001b[0mfileobj\u001b[0m \u001b[0;32mfor\u001b[0m \u001b[0;34m(\u001b[0m\u001b[0mkey\u001b[0m\u001b[0;34m,\u001b[0m \u001b[0mevents\u001b[0m\u001b[0;34m)\u001b[0m \u001b[0;32min\u001b[0m \u001b[0mready\u001b[0m\u001b[0;34m]\u001b[0m\u001b[0;34m\u001b[0m\u001b[0;34m\u001b[0m\u001b[0m\n",
            "\u001b[0;32m/usr/lib/python3.7/selectors.py\u001b[0m in \u001b[0;36mselect\u001b[0;34m(self, timeout)\u001b[0m\n\u001b[1;32m    413\u001b[0m         \u001b[0mready\u001b[0m \u001b[0;34m=\u001b[0m \u001b[0;34m[\u001b[0m\u001b[0;34m]\u001b[0m\u001b[0;34m\u001b[0m\u001b[0;34m\u001b[0m\u001b[0m\n\u001b[1;32m    414\u001b[0m         \u001b[0;32mtry\u001b[0m\u001b[0;34m:\u001b[0m\u001b[0;34m\u001b[0m\u001b[0;34m\u001b[0m\u001b[0m\n\u001b[0;32m--> 415\u001b[0;31m             \u001b[0mfd_event_list\u001b[0m \u001b[0;34m=\u001b[0m \u001b[0mself\u001b[0m\u001b[0;34m.\u001b[0m\u001b[0m_selector\u001b[0m\u001b[0;34m.\u001b[0m\u001b[0mpoll\u001b[0m\u001b[0;34m(\u001b[0m\u001b[0mtimeout\u001b[0m\u001b[0;34m)\u001b[0m\u001b[0;34m\u001b[0m\u001b[0;34m\u001b[0m\u001b[0m\n\u001b[0m\u001b[1;32m    416\u001b[0m         \u001b[0;32mexcept\u001b[0m \u001b[0mInterruptedError\u001b[0m\u001b[0;34m:\u001b[0m\u001b[0;34m\u001b[0m\u001b[0;34m\u001b[0m\u001b[0m\n\u001b[1;32m    417\u001b[0m             \u001b[0;32mreturn\u001b[0m \u001b[0mready\u001b[0m\u001b[0;34m\u001b[0m\u001b[0;34m\u001b[0m\u001b[0m\n",
            "\u001b[0;31mKeyboardInterrupt\u001b[0m: "
          ]
        }
      ]
    },
    {
      "cell_type": "markdown",
      "metadata": {
        "id": "9D2XrpGxtJ9w"
      },
      "source": [
        "Next, let's define the model evaluation function."
      ]
    },
    {
      "cell_type": "code",
      "execution_count": null,
      "metadata": {
        "id": "uvjKlBsNP_pF"
      },
      "outputs": [],
      "source": [
        "def evaluate(model, dataloader, criterion):\n",
        "  model.eval()\n",
        "\n",
        "  running_loss = 0.0\n",
        "  running_total_correct = 0.0\n",
        "\n",
        "  for i, (inputs, labels) in enumerate(tqdm(dataloader)):\n",
        "    inputs = inputs.to(device)\n",
        "    labels = labels.to(device)\n",
        "\n",
        "    with torch.set_grad_enabled(False):\n",
        "      outputs = model(inputs)\n",
        "      loss = criterion(outputs, labels) \n",
        "      _, preds = torch.max(outputs, 1)\n",
        "\n",
        "    running_loss += loss.item() * inputs.size(0)\n",
        "    running_total_correct += torch.sum(preds == labels)\n",
        "\n",
        "  # Calculate epoch loss and accuracy\n",
        "  epoch_loss = running_loss / len(dataloader.dataset)\n",
        "  epoch_accuracy = (running_total_correct / len(dataloader.dataset)) * 100\n",
        "  print(\"Test Loss: {:.2f}; Accuracy: {:.2f}\".format(epoch_loss, epoch_accuracy))\n",
        "\n",
        "  return epoch_loss, epoch_accuracy"
      ]
    },
    {
      "cell_type": "markdown",
      "metadata": {
        "id": "FzTl0FX3tN8m"
      },
      "source": [
        "We want to pass the entire training dataset multiple (`n_epochs`) times through the network, to minimize the cost as much as possible."
      ]
    },
    {
      "cell_type": "code",
      "execution_count": null,
      "metadata": {
        "id": "KNgDSfQDMSFI"
      },
      "outputs": [],
      "source": [
        "def fit(model, train_loader, val_loader, n_epochs, lr, early_stopping=False, early_stopping_patience=0):\n",
        "  '''\n",
        "  TODO: Task 2 - Implement early stopping with a patience of 3 epochs and return the best model\n",
        "  '''\n",
        "\n",
        "  # Specify criterion and optimizer\n",
        "  criterion = torch.nn.CrossEntropyLoss()\n",
        "  optimizer = torch.optim.SGD(model.parameters(), lr=lr)\n",
        "\n",
        "  # Train and validation over n_epochs\n",
        "  for epoch in range(n_epochs):\n",
        "    print(f'Epoch {epoch + 1}')\n",
        "\n",
        "    train(model, train_loader, criterion, optimizer)\n",
        "    val_loss, _ = evaluate(model, val_loader, criterion)\n"
      ]
    },
    {
      "cell_type": "markdown",
      "metadata": {
        "id": "wMAhlYpvNGNQ"
      },
      "source": [
        "Decide on a set of hyperparameters and train the network accordingly."
      ]
    },
    {
      "cell_type": "code",
      "execution_count": null,
      "metadata": {
        "id": "1nBMmxfUAAjz"
      },
      "outputs": [],
      "source": [
        "# Specify hyperparameters\n",
        "n_epochs = 4\n",
        "lr = 1e-3\n",
        "\n",
        "# Train and return best model\n",
        "best_model = fit(model, train_loader, test_loader, n_epochs, lr)"
      ]
    },
    {
      "cell_type": "markdown",
      "metadata": {
        "id": "14oPIiaqb-hI"
      },
      "source": [
        "## Persisting & Loading Model\n",
        "\n",
        "Save the trained model to the file system:\n"
      ]
    },
    {
      "cell_type": "code",
      "execution_count": null,
      "metadata": {
        "id": "txqSMimEO5B1"
      },
      "outputs": [],
      "source": [
        "model_dir = Path('models')\n",
        "model_dir.mkdir(parents=True, exist_ok=True)\n",
        "model_file = os.path.join(model_dir, 'best_model.pth')\n",
        "\n",
        "torch.save(best_model, model_file)\n",
        "\n",
        "print('Model successfully saved to {}'.format(model_file))"
      ]
    },
    {
      "cell_type": "markdown",
      "metadata": {
        "id": "zeqCoai8hcYr"
      },
      "source": [
        "Loading a previously trained model from the file system:"
      ]
    },
    {
      "cell_type": "code",
      "execution_count": null,
      "metadata": {
        "id": "oRRJ0vlCheDD"
      },
      "outputs": [],
      "source": [
        "model_file = os.path.join('models', 'best_model.pth')\n",
        "'''\n",
        "TODO: Task 3 - Load the saved model to make predictions (next step)\n",
        "'''"
      ]
    },
    {
      "cell_type": "markdown",
      "metadata": {
        "id": "G6c20o6xcnZ6"
      },
      "source": [
        "<a name=\"results-and-discussion\"></a>\n",
        "# Model Prediction\n",
        "\n",
        "Let's visualize an example of the neural network making a prediction."
      ]
    },
    {
      "cell_type": "code",
      "execution_count": null,
      "metadata": {
        "colab": {
          "base_uri": "https://localhost:8080/",
          "height": 296
        },
        "id": "77fAZ7xEglBX",
        "outputId": "746a10c8-0409-4769-d2cd-df60fff1406d"
      },
      "outputs": [
        {
          "data": {
            "image/png": "[encoded data removed]",
            "text/plain": [
              "<Figure size 288x288 with 1 Axes>"
            ]
          },
          "metadata": {
            "needs_background": "light"
          },
          "output_type": "display_data"
        }
      ],
      "source": [
        "# Retrieve sample image\n",
        "index = 1\n",
        "image, label = test_data[index]\n",
        "\n",
        "# Predict on sample\n",
        "output = model(image.unsqueeze(0))\n",
        "_, pred = torch.max(output, 1)\n",
        "\n",
        "# Get corresponding class label\n",
        "label = class_names[label]\n",
        "pred = class_names[pred[0]]\n",
        "\n",
        "# Visualize sample and prediction\n",
        "image = image.cpu().numpy().transpose((1, 2, 0))\n",
        "image = np.clip(np.array(imagenet_std) * image + np.array(imagenet_mean), 0, 1)\n",
        "\n",
        "fig, ax = plt.subplots(figsize=(4, 4))\n",
        "ax.imshow(image)\n",
        "ax.set_title(\"Predicted class: {}\\nActual Class: {}\".format(pred, label));"
      ]
    },
    {
      "cell_type": "markdown",
      "metadata": {
        "id": "PvUL5a5Gp5fC"
      },
      "source": [
        "Here, we show how to run the model on a PIL image."
      ]
    },
    {
      "cell_type": "code",
      "execution_count": null,
      "metadata": {
        "colab": {
          "base_uri": "https://localhost:8080/",
          "height": 296
        },
        "id": "YuMyKEFjdvvn",
        "outputId": "fb92768d-080b-4385-e71d-6ccc460daf5b"
      },
      "outputs": [
        {
          "data": {
            "image/png": "[encoded data removed]",
            "text/plain": [
              "<Figure size 288x288 with 1 Axes>"
            ]
          },
          "metadata": {
            "needs_background": "light"
          },
          "output_type": "display_data"
        }
      ],
      "source": [
        "label = 'Forest'\n",
        "image_path = os.path.join('EuroSAT', '2750', label, f'{label}_1.jpg')\n",
        "image = Image.open(image_path)\n",
        "\n",
        "# Transform image\n",
        "input = test_transform(image)\n",
        "\n",
        "# Predict on sample\n",
        "output = model(input.unsqueeze(0))\n",
        "\n",
        "# Get corresponding class label\n",
        "_, pred = torch.max(output, 1)\n",
        "pred = class_names[pred[0]]\n",
        "\n",
        "# Visualize results\n",
        "fig, ax = plt.subplots(figsize=(4,4))\n",
        "ax.imshow(image)\n",
        "ax.set_title(\"Predicted class: {}\\nActual Class: {}\".format(pred, label));"
      ]
    },
    {
      "cell_type": "markdown",
      "metadata": {
        "id": "zxQ_jxSAvR72"
      },
      "source": [
        "# Further Model Improvements"
      ]
    },
    {
      "cell_type": "markdown",
      "metadata": {
        "id": "VwdEmWTZvjQv"
      },
      "source": [
        "### Model Selection: Trying Different CNN Architectures\n",
        " \n",
        "Model and architecture selection are often an important part of the machine learning pipeline. Previously, we have just picked ResNet-50 because it was successfully utilized for the Eurosat LULC classification problem before. Now, let's investigate how different CNN architectures perform on the same problem. For PyTorch you can find more information on the different CNN classification architectures with pre-trained weights [here](https://pytorch.org/vision/0.8/models.html). \n",
        "\n",
        "For the future, keep in mind that we don't want to perform the final evaluation on the same data we used for model selection and tuning the architecture hyperparameters, to avoid data leakage and overoptimistic evaluation results. "
      ]
    },
    {
      "cell_type": "code",
      "execution_count": null,
      "metadata": {
        "id": "oLTYuCwkvi7K"
      },
      "outputs": [],
      "source": [
        "'''\n",
        "TODO: Task 4 - Train a model for the Eurosat LULC classification problem using a different CNN architecture with another set of pre-trained weights.\n",
        "\n",
        "Briefly explain why you chose the particular architecture you did (around 2-3 sentences).\n",
        "'''\n"
      ]
    },
    {
      "cell_type": "markdown",
      "metadata": {
        "id": "r5aYabMsvrjJ"
      },
      "source": [
        "### Transfer Learning: Trying Different Fine-tuning Strategies\n",
        "\n",
        "Previously, we have intialized the network with weights from another image classification problem and updated all of them as we were training on the Eurosat LULC dataset. Another approach to fine-tuning uses the pretrained convolutional layers as a fixed feature extractor by freezing those weights and only updates the weights of the last, fully-connected layer(s) responsible for classification."
      ]
    },
    {
      "cell_type": "code",
      "execution_count": null,
      "metadata": {
        "id": "cRqbXUEEvQ0c"
      },
      "outputs": [],
      "source": [
        "'''\n",
        "TODO: Task 5 - Retrain and evaluate the network with frozen ResNet50_Weights for all, but the last layer.\n",
        "\n",
        "Briefly elaborate on how the results of the two different strategies differ and why possibly (around 3-4 sentences).\n",
        "'''\n"
      ]
    },
    {
      "cell_type": "markdown",
      "metadata": {
        "id": "159bu-po8EU9"
      },
      "source": [
        "### Hyperparameter Tuning: Systematically Trying Different Hyperparameters\n",
        "\n"
      ]
    },
    {
      "cell_type": "code",
      "execution_count": null,
      "metadata": {
        "id": "BsG4O6m38UZs"
      },
      "outputs": [],
      "source": [
        "'''\n",
        "TODO: Task 6 - Implement a systematic hyperparameter tuning using grid or random search for at least 5 different hyperparameter combinations of at least 2 different hyperparameters.\n",
        "\n",
        "Report which hyperparameters performed best and briefly elaborate why you believe this is the case (around 2-3 sentences).\n",
        "\n",
        "Notes:\n",
        "* you may use any Python library of your choice to facilitate the hyperparameter tuning\n",
        "* you may freely chose which hyperparameters you want to optimize, but keep in mind that some have significant impact on the training time\n",
        "'''"
      ]
    },
    {
      "cell_type": "markdown",
      "metadata": {
        "id": "V6QXWZhhxkGJ"
      },
      "source": [
        "### Training from Scratch\n",
        "\n",
        "In order to explore how much the pre-training helped and which challenges it mitigated, let's train a CNN from scratch."
      ]
    },
    {
      "cell_type": "code",
      "execution_count": null,
      "metadata": {
        "id": "1Ds0K7FsxoG0"
      },
      "outputs": [],
      "source": [
        "'''\n",
        "TODO: Task 7 - Train a convolutional neural network from scratch for the Eurosat LULC classification problem\n",
        "\n",
        "Briefly elaborate on how well the network learns compared to previous transfer learning approaches (around 3-4 sentences).\n",
        "\n",
        "Notes:\n",
        "* use a Python library of your choice (e.g. Keras, PyTorch, etc.) \n",
        "* use a network architecture of your choice (not too deep, to keep it computationally feasible)\n",
        "* no minimum requirement in terms of validation accuracy (though at least 3 epochs with overall visible accuracy improvement)\n",
        "'''\n"
      ]
    },
    {
      "cell_type": "markdown",
      "metadata": {
        "id": "LpHO-JE5xnbe"
      },
      "source": [
        "### Binary classification\n",
        "\n",
        "For some applications, the granularity of land cover classes may not be necessary, and only whether the land is built-up/sealed or natural is of interest.\n",
        "\n",
        "As a reminder, these are the land cover classes of the EuroSAT dataset:\n",
        "```\n",
        "['AnnualCrop', 'Forest', 'HerbaceousVegetation', 'Highway', 'Industrial', 'Pasture', 'PermanentCrop', 'Residential', 'River', 'SeaLake']\n",
        "```"
      ]
    },
    {
      "cell_type": "code",
      "execution_count": null,
      "metadata": {
        "id": "si3mUI568kLi"
      },
      "outputs": [],
      "source": [
        "'''\n",
        "TODO: Task 8 - Develop an approach to efficiently classify satellite imagery into built-up and natural areas.\n",
        "\n",
        "Please elaborate why you chose the approach and why you believe it works better than other approaches (e.g. binary classification vs. multiclass classification with postprocessing) (around 5-8 sentences)\n",
        "'''"
      ]
    },
    {
      "cell_type": "markdown",
      "metadata": {
        "id": "NYk0TXtZ0G4Y"
      },
      "source": [
        "# References\n",
        "- Helber, P., Bischke, B., Dengel, A., & Borth, D. (2019). Eurosat: A novel dataset and deep learning benchmark for land use and land cover classification. IEEE Journal of Selected Topics in Applied Earth Observations and Remote Sensing, 12(7), 2217-2226."
      ]
    },
    {
      "cell_type": "markdown",
      "metadata": {
        "id": "CTNjsBySXqmj"
      },
      "source": [
        "## Credits"
      ]
    },
    {
      "cell_type": "markdown",
      "metadata": {
        "id": "IWOvVSzKX2_c"
      },
      "source": [
        "Many thanks to original content creators of this tutorial Ankur Mahesh and Isabelle Tingzon!"
      ]
    }
  ],
  "metadata": {
    "accelerator": "GPU",
    "colab": {
      "collapsed_sections": [],
      "provenance": [],
      "include_colab_link": true
    },
    "gpuClass": "standard",
    "kernelspec": {
      "display_name": "Python 3 (ipykernel)",
      "language": "python",
      "name": "python3"
    },
    "language_info": {
      "codemirror_mode": {
        "name": "ipython",
        "version": 3
      },
      "file_extension": ".py",
      "mimetype": "text/x-python",
      "name": "python",
      "nbconvert_exporter": "python",
      "pygments_lexer": "ipython3",
      "version": "3.10.7"
    },
    "vscode": {
      "interpreter": {
        "hash": "aee8b7b246df8f9039afb4144a1f6fd8d2ca17a180786b69acc140d282b71a49"
      }
    },
    "widgets": {
      "application/vnd.jupyter.widget-state+json": {
        "5b29b69b2659455fb10fe2819d833bea": {
          "model_module": "@jupyter-widgets/controls",
          "model_name": "HBoxModel",
          "model_module_version": "1.5.0",
          "state": {
            "_dom_classes": [],
            "_model_module": "@jupyter-widgets/controls",
            "_model_module_version": "1.5.0",
            "_model_name": "HBoxModel",
            "_view_count": null,
            "_view_module": "@jupyter-widgets/controls",
            "_view_module_version": "1.5.0",
            "_view_name": "HBoxView",
            "box_style": "",
            "children": [
              "IPY_MODEL_7a72bb9b749644c8b5c46ab2ae804995",
              "IPY_MODEL_6a82144893dc4271b3af40d9fe6532c0",
              "IPY_MODEL_2653d08f94bc420db50b0f950a1dffaf"
            ],
            "layout": "IPY_MODEL_24e9a6fddfba40dea94145552ab6471d"
          }
        },
        "7a72bb9b749644c8b5c46ab2ae804995": {
          "model_module": "@jupyter-widgets/controls",
          "model_name": "HTMLModel",
          "model_module_version": "1.5.0",
          "state": {
            "_dom_classes": [],
            "_model_module": "@jupyter-widgets/controls",
            "_model_module_version": "1.5.0",
            "_model_name": "HTMLModel",
            "_view_count": null,
            "_view_module": "@jupyter-widgets/controls",
            "_view_module_version": "1.5.0",
            "_view_name": "HTMLView",
            "description": "",
            "description_tooltip": null,
            "layout": "IPY_MODEL_cb64605cc6ef4619aaaf3dbd3652d11e",
            "placeholder": "​",
            "style": "IPY_MODEL_b6ca8aaf144e4234a9834c1e97d601d5",
            "value": "100%"
          }
        },
        "6a82144893dc4271b3af40d9fe6532c0": {
          "model_module": "@jupyter-widgets/controls",
          "model_name": "FloatProgressModel",
          "model_module_version": "1.5.0",
          "state": {
            "_dom_classes": [],
            "_model_module": "@jupyter-widgets/controls",
            "_model_module_version": "1.5.0",
            "_model_name": "FloatProgressModel",
            "_view_count": null,
            "_view_module": "@jupyter-widgets/controls",
            "_view_module_version": "1.5.0",
            "_view_name": "ProgressView",
            "bar_style": "success",
            "description": "",
            "description_tooltip": null,
            "layout": "IPY_MODEL_74a27a992480455a968d95f43919357b",
            "max": 1350,
            "min": 0,
            "orientation": "horizontal",
            "style": "IPY_MODEL_90433c2073da4734a0992e04d2ef0da3",
            "value": 1350
          }
        },
        "2653d08f94bc420db50b0f950a1dffaf": {
          "model_module": "@jupyter-widgets/controls",
          "model_name": "HTMLModel",
          "model_module_version": "1.5.0",
          "state": {
            "_dom_classes": [],
            "_model_module": "@jupyter-widgets/controls",
            "_model_module_version": "1.5.0",
            "_model_name": "HTMLModel",
            "_view_count": null,
            "_view_module": "@jupyter-widgets/controls",
            "_view_module_version": "1.5.0",
            "_view_name": "HTMLView",
            "description": "",
            "description_tooltip": null,
            "layout": "IPY_MODEL_20c5aeea83484676b717f8a06dfb66ec",
            "placeholder": "​",
            "style": "IPY_MODEL_57f0df148bdc4daa9831f04392340338",
            "value": " 1350/1350 [03:37&lt;00:00,  6.23it/s]"
          }
        },
        "24e9a6fddfba40dea94145552ab6471d": {
          "model_module": "@jupyter-widgets/base",
          "model_name": "LayoutModel",
          "model_module_version": "1.2.0",
          "state": {
            "_model_module": "@jupyter-widgets/base",
            "_model_module_version": "1.2.0",
            "_model_name": "LayoutModel",
            "_view_count": null,
            "_view_module": "@jupyter-widgets/base",
            "_view_module_version": "1.2.0",
            "_view_name": "LayoutView",
            "align_content": null,
            "align_items": null,
            "align_self": null,
            "border": null,
            "bottom": null,
            "display": null,
            "flex": null,
            "flex_flow": null,
            "grid_area": null,
            "grid_auto_columns": null,
            "grid_auto_flow": null,
            "grid_auto_rows": null,
            "grid_column": null,
            "grid_gap": null,
            "grid_row": null,
            "grid_template_areas": null,
            "grid_template_columns": null,
            "grid_template_rows": null,
            "height": null,
            "justify_content": null,
            "justify_items": null,
            "left": null,
            "margin": null,
            "max_height": null,
            "max_width": null,
            "min_height": null,
            "min_width": null,
            "object_fit": null,
            "object_position": null,
            "order": null,
            "overflow": null,
            "overflow_x": null,
            "overflow_y": null,
            "padding": null,
            "right": null,
            "top": null,
            "visibility": null,
            "width": null
          }
        },
        "cb64605cc6ef4619aaaf3dbd3652d11e": {
          "model_module": "@jupyter-widgets/base",
          "model_name": "LayoutModel",
          "model_module_version": "1.2.0",
          "state": {
            "_model_module": "@jupyter-widgets/base",
            "_model_module_version": "1.2.0",
            "_model_name": "LayoutModel",
            "_view_count": null,
            "_view_module": "@jupyter-widgets/base",
            "_view_module_version": "1.2.0",
            "_view_name": "LayoutView",
            "align_content": null,
            "align_items": null,
            "align_self": null,
            "border": null,
            "bottom": null,
            "display": null,
            "flex": null,
            "flex_flow": null,
            "grid_area": null,
            "grid_auto_columns": null,
            "grid_auto_flow": null,
            "grid_auto_rows": null,
            "grid_column": null,
            "grid_gap": null,
            "grid_row": null,
            "grid_template_areas": null,
            "grid_template_columns": null,
            "grid_template_rows": null,
            "height": null,
            "justify_content": null,
            "justify_items": null,
            "left": null,
            "margin": null,
            "max_height": null,
            "max_width": null,
            "min_height": null,
            "min_width": null,
            "object_fit": null,
            "object_position": null,
            "order": null,
            "overflow": null,
            "overflow_x": null,
            "overflow_y": null,
            "padding": null,
            "right": null,
            "top": null,
            "visibility": null,
            "width": null
          }
        },
        "b6ca8aaf144e4234a9834c1e97d601d5": {
          "model_module": "@jupyter-widgets/controls",
          "model_name": "DescriptionStyleModel",
          "model_module_version": "1.5.0",
          "state": {
            "_model_module": "@jupyter-widgets/controls",
            "_model_module_version": "1.5.0",
            "_model_name": "DescriptionStyleModel",
            "_view_count": null,
            "_view_module": "@jupyter-widgets/base",
            "_view_module_version": "1.2.0",
            "_view_name": "StyleView",
            "description_width": ""
          }
        },
        "74a27a992480455a968d95f43919357b": {
          "model_module": "@jupyter-widgets/base",
          "model_name": "LayoutModel",
          "model_module_version": "1.2.0",
          "state": {
            "_model_module": "@jupyter-widgets/base",
            "_model_module_version": "1.2.0",
            "_model_name": "LayoutModel",
            "_view_count": null,
            "_view_module": "@jupyter-widgets/base",
            "_view_module_version": "1.2.0",
            "_view_name": "LayoutView",
            "align_content": null,
            "align_items": null,
            "align_self": null,
            "border": null,
            "bottom": null,
            "display": null,
            "flex": null,
            "flex_flow": null,
            "grid_area": null,
            "grid_auto_columns": null,
            "grid_auto_flow": null,
            "grid_auto_rows": null,
            "grid_column": null,
            "grid_gap": null,
            "grid_row": null,
            "grid_template_areas": null,
            "grid_template_columns": null,
            "grid_template_rows": null,
            "height": null,
            "justify_content": null,
            "justify_items": null,
            "left": null,
            "margin": null,
            "max_height": null,
            "max_width": null,
            "min_height": null,
            "min_width": null,
            "object_fit": null,
            "object_position": null,
            "order": null,
            "overflow": null,
            "overflow_x": null,
            "overflow_y": null,
            "padding": null,
            "right": null,
            "top": null,
            "visibility": null,
            "width": null
          }
        },
        "90433c2073da4734a0992e04d2ef0da3": {
          "model_module": "@jupyter-widgets/controls",
          "model_name": "ProgressStyleModel",
          "model_module_version": "1.5.0",
          "state": {
            "_model_module": "@jupyter-widgets/controls",
            "_model_module_version": "1.5.0",
            "_model_name": "ProgressStyleModel",
            "_view_count": null,
            "_view_module": "@jupyter-widgets/base",
            "_view_module_version": "1.2.0",
            "_view_name": "StyleView",
            "bar_color": null,
            "description_width": ""
          }
        },
        "20c5aeea83484676b717f8a06dfb66ec": {
          "model_module": "@jupyter-widgets/base",
          "model_name": "LayoutModel",
          "model_module_version": "1.2.0",
          "state": {
            "_model_module": "@jupyter-widgets/base",
            "_model_module_version": "1.2.0",
            "_model_name": "LayoutModel",
            "_view_count": null,
            "_view_module": "@jupyter-widgets/base",
            "_view_module_version": "1.2.0",
            "_view_name": "LayoutView",
            "align_content": null,
            "align_items": null,
            "align_self": null,
            "border": null,
            "bottom": null,
            "display": null,
            "flex": null,
            "flex_flow": null,
            "grid_area": null,
            "grid_auto_columns": null,
            "grid_auto_flow": null,
            "grid_auto_rows": null,
            "grid_column": null,
            "grid_gap": null,
            "grid_row": null,
            "grid_template_areas": null,
            "grid_template_columns": null,
            "grid_template_rows": null,
            "height": null,
            "justify_content": null,
            "justify_items": null,
            "left": null,
            "margin": null,
            "max_height": null,
            "max_width": null,
            "min_height": null,
            "min_width": null,
            "object_fit": null,
            "object_position": null,
            "order": null,
            "overflow": null,
            "overflow_x": null,
            "overflow_y": null,
            "padding": null,
            "right": null,
            "top": null,
            "visibility": null,
            "width": null
          }
        },
        "57f0df148bdc4daa9831f04392340338": {
          "model_module": "@jupyter-widgets/controls",
          "model_name": "DescriptionStyleModel",
          "model_module_version": "1.5.0",
          "state": {
            "_model_module": "@jupyter-widgets/controls",
            "_model_module_version": "1.5.0",
            "_model_name": "DescriptionStyleModel",
            "_view_count": null,
            "_view_module": "@jupyter-widgets/base",
            "_view_module_version": "1.2.0",
            "_view_name": "StyleView",
            "description_width": ""
          }
        },
        "f5c681cc75974b0d8e1a02c1bcaf6672": {
          "model_module": "@jupyter-widgets/controls",
          "model_name": "HBoxModel",
          "model_module_version": "1.5.0",
          "state": {
            "_dom_classes": [],
            "_model_module": "@jupyter-widgets/controls",
            "_model_module_version": "1.5.0",
            "_model_name": "HBoxModel",
            "_view_count": null,
            "_view_module": "@jupyter-widgets/controls",
            "_view_module_version": "1.5.0",
            "_view_name": "HBoxView",
            "box_style": "",
            "children": [
              "IPY_MODEL_22b32cd94eeb4878ba3932088e6d545c",
              "IPY_MODEL_95ca81b3940b468ca7094d41c88366c7",
              "IPY_MODEL_93e9430a351a4cc5b10d9575b4678e30"
            ],
            "layout": "IPY_MODEL_5dcfa973f5294ec89f9b51b4d53a60ed"
          }
        },
        "22b32cd94eeb4878ba3932088e6d545c": {
          "model_module": "@jupyter-widgets/controls",
          "model_name": "HTMLModel",
          "model_module_version": "1.5.0",
          "state": {
            "_dom_classes": [],
            "_model_module": "@jupyter-widgets/controls",
            "_model_module_version": "1.5.0",
            "_model_name": "HTMLModel",
            "_view_count": null,
            "_view_module": "@jupyter-widgets/controls",
            "_view_module_version": "1.5.0",
            "_view_name": "HTMLView",
            "description": "",
            "description_tooltip": null,
            "layout": "IPY_MODEL_0e922149c1f14b8aa62c88f0671301da",
            "placeholder": "​",
            "style": "IPY_MODEL_830234a6dcef4625bc729c92294d1dd9",
            "value": " 26%"
          }
        },
        "95ca81b3940b468ca7094d41c88366c7": {
          "model_module": "@jupyter-widgets/controls",
          "model_name": "FloatProgressModel",
          "model_module_version": "1.5.0",
          "state": {
            "_dom_classes": [],
            "_model_module": "@jupyter-widgets/controls",
            "_model_module_version": "1.5.0",
            "_model_name": "FloatProgressModel",
            "_view_count": null,
            "_view_module": "@jupyter-widgets/controls",
            "_view_module_version": "1.5.0",
            "_view_name": "ProgressView",
            "bar_style": "danger",
            "description": "",
            "description_tooltip": null,
            "layout": "IPY_MODEL_c8e424eedebf4a078c7591b660789ef8",
            "max": 1350,
            "min": 0,
            "orientation": "horizontal",
            "style": "IPY_MODEL_0428beb46f1240c6be532236eaaab1a0",
            "value": 350
          }
        },
        "93e9430a351a4cc5b10d9575b4678e30": {
          "model_module": "@jupyter-widgets/controls",
          "model_name": "HTMLModel",
          "model_module_version": "1.5.0",
          "state": {
            "_dom_classes": [],
            "_model_module": "@jupyter-widgets/controls",
            "_model_module_version": "1.5.0",
            "_model_name": "HTMLModel",
            "_view_count": null,
            "_view_module": "@jupyter-widgets/controls",
            "_view_module_version": "1.5.0",
            "_view_name": "HTMLView",
            "description": "",
            "description_tooltip": null,
            "layout": "IPY_MODEL_8e8559fc9b18432ba77b789606770390",
            "placeholder": "​",
            "style": "IPY_MODEL_9330736a1a4c415cac3a18d8c3a2f503",
            "value": " 350/1350 [00:13&lt;00:33, 29.96it/s]"
          }
        },
        "5dcfa973f5294ec89f9b51b4d53a60ed": {
          "model_module": "@jupyter-widgets/base",
          "model_name": "LayoutModel",
          "model_module_version": "1.2.0",
          "state": {
            "_model_module": "@jupyter-widgets/base",
            "_model_module_version": "1.2.0",
            "_model_name": "LayoutModel",
            "_view_count": null,
            "_view_module": "@jupyter-widgets/base",
            "_view_module_version": "1.2.0",
            "_view_name": "LayoutView",
            "align_content": null,
            "align_items": null,
            "align_self": null,
            "border": null,
            "bottom": null,
            "display": null,
            "flex": null,
            "flex_flow": null,
            "grid_area": null,
            "grid_auto_columns": null,
            "grid_auto_flow": null,
            "grid_auto_rows": null,
            "grid_column": null,
            "grid_gap": null,
            "grid_row": null,
            "grid_template_areas": null,
            "grid_template_columns": null,
            "grid_template_rows": null,
            "height": null,
            "justify_content": null,
            "justify_items": null,
            "left": null,
            "margin": null,
            "max_height": null,
            "max_width": null,
            "min_height": null,
            "min_width": null,
            "object_fit": null,
            "object_position": null,
            "order": null,
            "overflow": null,
            "overflow_x": null,
            "overflow_y": null,
            "padding": null,
            "right": null,
            "top": null,
            "visibility": null,
            "width": null
          }
        },
        "0e922149c1f14b8aa62c88f0671301da": {
          "model_module": "@jupyter-widgets/base",
          "model_name": "LayoutModel",
          "model_module_version": "1.2.0",
          "state": {
            "_model_module": "@jupyter-widgets/base",
            "_model_module_version": "1.2.0",
            "_model_name": "LayoutModel",
            "_view_count": null,
            "_view_module": "@jupyter-widgets/base",
            "_view_module_version": "1.2.0",
            "_view_name": "LayoutView",
            "align_content": null,
            "align_items": null,
            "align_self": null,
            "border": null,
            "bottom": null,
            "display": null,
            "flex": null,
            "flex_flow": null,
            "grid_area": null,
            "grid_auto_columns": null,
            "grid_auto_flow": null,
            "grid_auto_rows": null,
            "grid_column": null,
            "grid_gap": null,
            "grid_row": null,
            "grid_template_areas": null,
            "grid_template_columns": null,
            "grid_template_rows": null,
            "height": null,
            "justify_content": null,
            "justify_items": null,
            "left": null,
            "margin": null,
            "max_height": null,
            "max_width": null,
            "min_height": null,
            "min_width": null,
            "object_fit": null,
            "object_position": null,
            "order": null,
            "overflow": null,
            "overflow_x": null,
            "overflow_y": null,
            "padding": null,
            "right": null,
            "top": null,
            "visibility": null,
            "width": null
          }
        },
        "830234a6dcef4625bc729c92294d1dd9": {
          "model_module": "@jupyter-widgets/controls",
          "model_name": "DescriptionStyleModel",
          "model_module_version": "1.5.0",
          "state": {
            "_model_module": "@jupyter-widgets/controls",
            "_model_module_version": "1.5.0",
            "_model_name": "DescriptionStyleModel",
            "_view_count": null,
            "_view_module": "@jupyter-widgets/base",
            "_view_module_version": "1.2.0",
            "_view_name": "StyleView",
            "description_width": ""
          }
        },
        "c8e424eedebf4a078c7591b660789ef8": {
          "model_module": "@jupyter-widgets/base",
          "model_name": "LayoutModel",
          "model_module_version": "1.2.0",
          "state": {
            "_model_module": "@jupyter-widgets/base",
            "_model_module_version": "1.2.0",
            "_model_name": "LayoutModel",
            "_view_count": null,
            "_view_module": "@jupyter-widgets/base",
            "_view_module_version": "1.2.0",
            "_view_name": "LayoutView",
            "align_content": null,
            "align_items": null,
            "align_self": null,
            "border": null,
            "bottom": null,
            "display": null,
            "flex": null,
            "flex_flow": null,
            "grid_area": null,
            "grid_auto_columns": null,
            "grid_auto_flow": null,
            "grid_auto_rows": null,
            "grid_column": null,
            "grid_gap": null,
            "grid_row": null,
            "grid_template_areas": null,
            "grid_template_columns": null,
            "grid_template_rows": null,
            "height": null,
            "justify_content": null,
            "justify_items": null,
            "left": null,
            "margin": null,
            "max_height": null,
            "max_width": null,
            "min_height": null,
            "min_width": null,
            "object_fit": null,
            "object_position": null,
            "order": null,
            "overflow": null,
            "overflow_x": null,
            "overflow_y": null,
            "padding": null,
            "right": null,
            "top": null,
            "visibility": null,
            "width": null
          }
        },
        "0428beb46f1240c6be532236eaaab1a0": {
          "model_module": "@jupyter-widgets/controls",
          "model_name": "ProgressStyleModel",
          "model_module_version": "1.5.0",
          "state": {
            "_model_module": "@jupyter-widgets/controls",
            "_model_module_version": "1.5.0",
            "_model_name": "ProgressStyleModel",
            "_view_count": null,
            "_view_module": "@jupyter-widgets/base",
            "_view_module_version": "1.2.0",
            "_view_name": "StyleView",
            "bar_color": null,
            "description_width": ""
          }
        },
        "8e8559fc9b18432ba77b789606770390": {
          "model_module": "@jupyter-widgets/base",
          "model_name": "LayoutModel",
          "model_module_version": "1.2.0",
          "state": {
            "_model_module": "@jupyter-widgets/base",
            "_model_module_version": "1.2.0",
            "_model_name": "LayoutModel",
            "_view_count": null,
            "_view_module": "@jupyter-widgets/base",
            "_view_module_version": "1.2.0",
            "_view_name": "LayoutView",
            "align_content": null,
            "align_items": null,
            "align_self": null,
            "border": null,
            "bottom": null,
            "display": null,
            "flex": null,
            "flex_flow": null,
            "grid_area": null,
            "grid_auto_columns": null,
            "grid_auto_flow": null,
            "grid_auto_rows": null,
            "grid_column": null,
            "grid_gap": null,
            "grid_row": null,
            "grid_template_areas": null,
            "grid_template_columns": null,
            "grid_template_rows": null,
            "height": null,
            "justify_content": null,
            "justify_items": null,
            "left": null,
            "margin": null,
            "max_height": null,
            "max_width": null,
            "min_height": null,
            "min_width": null,
            "object_fit": null,
            "object_position": null,
            "order": null,
            "overflow": null,
            "overflow_x": null,
            "overflow_y": null,
            "padding": null,
            "right": null,
            "top": null,
            "visibility": null,
            "width": null
          }
        },
        "9330736a1a4c415cac3a18d8c3a2f503": {
          "model_module": "@jupyter-widgets/controls",
          "model_name": "DescriptionStyleModel",
          "model_module_version": "1.5.0",
          "state": {
            "_model_module": "@jupyter-widgets/controls",
            "_model_module_version": "1.5.0",
            "_model_name": "DescriptionStyleModel",
            "_view_count": null,
            "_view_module": "@jupyter-widgets/base",
            "_view_module_version": "1.2.0",
            "_view_name": "StyleView",
            "description_width": ""
          }
        }
      }
    }
  },
  "nbformat": 4,
  "nbformat_minor": 0
}